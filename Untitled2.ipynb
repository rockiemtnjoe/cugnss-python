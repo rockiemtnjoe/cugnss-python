{
 "cells": [
  {
   "cell_type": "code",
   "execution_count": 1,
   "id": "17d5a404-9b8f-43f9-a026-6de688238268",
   "metadata": {},
   "outputs": [],
   "source": [
    "import numpy as np\n",
    "from Include.generateL1c import L1c_FS\n",
    "import pandas as pd\n",
    "from init_settings import init_settings"
   ]
  },
  {
   "cell_type": "code",
   "execution_count": null,
   "id": "c2305538-afff-472b-909f-e9887d53dbfe",
   "metadata": {},
   "outputs": [],
   "source": []
  },
  {
   "cell_type": "markdown",
   "id": "45f63f59-07e1-48af-b452-fef95c2d4fe9",
   "metadata": {},
   "source": [
    "Read the acquisition results for our data set"
   ]
  },
  {
   "cell_type": "code",
   "execution_count": 9,
   "id": "32e4c739-50ac-43bf-8e6b-63fdd1f2cc7a",
   "metadata": {},
   "outputs": [
    {
     "name": "stdout",
     "output_type": "stream",
     "text": [
      "satellites detected in this data set via CA: [  1.   0.   0.   0.   0.   6.   7.   0.   0.   0.   0.   0.  13.  14.\n",
      "   0.   0.  17.   0.  19.   0.  21.   0.   0.  24.   0.   0.   0.  28.\n",
      "   0.  30.   0.  87.  88.   0.   0.   0.   0.  93.  94.   0.   0.   0.\n",
      "   0.   0. 100. 101.   0.   0. 104.   0.   0.]\n"
     ]
    }
   ],
   "source": [
    "acqResults = np.load(\"acqResults.npy\", allow_pickle=True).item()\n",
    "sats_in_view = acqResults['PRN']\n",
    "print (f'satellites detected in this data set via CA: {sats_in_view}')"
   ]
  },
  {
   "cell_type": "code",
   "execution_count": 7,
   "id": "9af4d3d0-0f02-4e90-a727-2ddcf3837353",
   "metadata": {},
   "outputs": [
    {
     "name": "stdout",
     "output_type": "stream",
     "text": [
      "Block III sats: [ 1  4 11 14 18 21 23 28]\n"
     ]
    }
   ],
   "source": [
    "df = pd.read_csv(\"L1Cp.csv\",\n",
    "                 dtype={\"PRN\": int,\n",
    "                        \"w_pilot\": int,\n",
    "                        \"p_pilot\": int,\n",
    "                        \"Initial_pilot_code\": str,\n",
    "                        \"Final_pilot_code\":str\n",
    "                       }\n",
    "                )\n",
    "block_iii_sats = df[\"PRN\"].to_numpy()\n",
    "print(f'Block III sats: {block_iii_sats}')"
   ]
  },
  {
   "cell_type": "code",
   "execution_count": 11,
   "id": "de9d4e07-6559-4da2-8a9e-27aab688270c",
   "metadata": {},
   "outputs": [
    {
     "name": "stdout",
     "output_type": "stream",
     "text": [
      "[ 1 14 21 28]\n"
     ]
    }
   ],
   "source": [
    "\n",
    "detected_block_iii = block_iii_sats[np.isin(block_iii_sats, sats_in_view)]\n",
    "print (detected_block_iii)"
   ]
  },
  {
   "cell_type": "code",
   "execution_count": null,
   "id": "8d32ae4c-22fe-4cfc-ab39-9f2a74607158",
   "metadata": {},
   "outputs": [],
   "source": []
  },
  {
   "cell_type": "code",
   "execution_count": null,
   "id": "cbf58675-7360-4ae4-88f5-bac27a5eb8df",
   "metadata": {},
   "outputs": [],
   "source": []
  }
 ],
 "metadata": {
  "kernelspec": {
   "display_name": "Python 3 (ipykernel)",
   "language": "python",
   "name": "python3"
  },
  "language_info": {
   "codemirror_mode": {
    "name": "ipython",
    "version": 3
   },
   "file_extension": ".py",
   "mimetype": "text/x-python",
   "name": "python",
   "nbconvert_exporter": "python",
   "pygments_lexer": "ipython3",
   "version": "3.12.3"
  }
 },
 "nbformat": 4,
 "nbformat_minor": 5
}
