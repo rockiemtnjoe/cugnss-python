{
 "cells": [
  {
   "cell_type": "markdown",
   "id": "73bcc897-41e0-461e-bad9-95814d1e260c",
   "metadata": {},
   "source": [
    "#Jupyter file to prototype generating Weil codes"
   ]
  },
  {
   "cell_type": "code",
   "execution_count": 18,
   "id": "7dd54a78-9654-4d3a-90d1-997b2930bcac",
   "metadata": {},
   "outputs": [],
   "source": [
    "import numpy as np\n",
    "import pandas as pd"
   ]
  },
  {
   "cell_type": "code",
   "execution_count": 19,
   "id": "8078bf56-27ff-423d-98a9-8e371c13f64b",
   "metadata": {},
   "outputs": [],
   "source": [
    "df = pd.read_csv(\"L1Cp.csv\",\n",
    "                 dtype={\"PRN\": int,\n",
    "                        \"w_pilot\": int,\n",
    "                        \"p_pilot\": int,\n",
    "                        \"Initial_pilot_code\": str,\n",
    "                        \"Final_pilot_code\":str\n",
    "                       }\n",
    "                )"
   ]
  },
  {
   "cell_type": "code",
   "execution_count": 20,
   "id": "34418c54-15a9-4e60-8232-c34a98c88412",
   "metadata": {},
   "outputs": [
    {
     "name": "stdout",
     "output_type": "stream",
     "text": [
      "5093\n",
      "04733076\n"
     ]
    }
   ],
   "source": [
    "prn_value = 11\n",
    "result = df.loc[df[\"PRN\"] == prn_value, \"w_pilot\"].iloc[0]\n",
    "start_string = df.loc[df[\"PRN\"] == prn_value, \"Initial_pilot_code\"].iloc[0]\n",
    "print (result)\n",
    "print (start_string)"
   ]
  },
  {
   "cell_type": "code",
   "execution_count": 36,
   "id": "efd40751-d8c2-4c2f-8c94-7bed5b04669d",
   "metadata": {},
   "outputs": [
    {
     "name": "stdout",
     "output_type": "stream",
     "text": [
      "PRN                    int64\n",
      "w_pilot                int64\n",
      "p_pilot                int64\n",
      "Initial_pilot_code    object\n",
      "Final_pilot_code      object\n",
      "dtype: object\n",
      "   PRN  w_pilot  p_pilot Initial_pilot_code Final_pilot_code\n",
      "0    1     5111      412           05752067         20173742\n",
      "1    4     5106      303           72125121         71435437\n",
      "2   11     5093      253           04733076         15210113\n",
      "3   14     5081       66           07476042         46623624\n",
      "4   18     5054     5211           73202225         14040513\n"
     ]
    }
   ],
   "source": [
    "print (df.dtypes)\n",
    "print (df.head())\n",
    "l1c_table = df.set_index(\"PRN\", verify_integrity=True)"
   ]
  },
  {
   "cell_type": "code",
   "execution_count": 37,
   "id": "801e4a5f-c6bc-46f0-b6bb-a117d8e23ec2",
   "metadata": {},
   "outputs": [
    {
     "name": "stdout",
     "output_type": "stream",
     "text": [
      "5093 253\n"
     ]
    }
   ],
   "source": [
    "w = l1c_table.at[int(11), \"w_pilot\"]\n",
    "p = l1c_table.at[int(11), \"p_pilot\"]\n",
    "print (w,p)"
   ]
  },
  {
   "cell_type": "code",
   "execution_count": 26,
   "id": "0d383a7e-a57b-4014-892a-ae7d2192551b",
   "metadata": {},
   "outputs": [],
   "source": [
    "def jacobi(n: int, k: int) -> int:\n",
    "    \"\"\"\n",
    "    Computes the Jacobi symbol (n/k) for odd k > 0.\n",
    "    Returns -1, 0, or +1.\n",
    "    \"\"\"\n",
    "    assert k > 0 and k % 2 == 1\n",
    "    n = n % k\n",
    "    t = 1\n",
    "    while n != 0:\n",
    "        # factor out powers of 2 from n\n",
    "        while n % 2 == 0:\n",
    "            n //= 2\n",
    "            r = k % 8\n",
    "            if r == 3 or r == 5:\n",
    "                t = -t\n",
    "        # quadratic reciprocity step\n",
    "        n, k = k, n\n",
    "        if (n % 4 == 3) and (k % 4 == 3):\n",
    "            t = -t\n",
    "        n = n % k\n",
    "    return t if k == 1 else 0"
   ]
  },
  {
   "cell_type": "code",
   "execution_count": 60,
   "id": "758664d9-70f0-4a90-b151-5d264bbe7812",
   "metadata": {},
   "outputs": [
    {
     "name": "stdout",
     "output_type": "stream",
     "text": [
      "0 0\n",
      "1 1\n",
      "2 1\n",
      "3 -1\n",
      "4 1\n",
      "5 -1\n",
      "6 -1\n",
      "0 0\n",
      "1 1\n",
      "2 -1\n",
      "3 1\n",
      "4 1\n",
      "5 1\n",
      "6 -1\n",
      "7 -1\n",
      "8 -1\n",
      "9 1\n",
      "10 -1\n"
     ]
    }
   ],
   "source": [
    "for a in range(7):\n",
    "    print(a, jacobi(a, 7))\n",
    "# expected: 0,+1,+1,−1,+1,−1,−1\n",
    "for a in range(11):\n",
    "    print(a, jacobi(a, 11))\n",
    "# check against known residues: {0,1,3,4,5,9}\n"
   ]
  },
  {
   "cell_type": "code",
   "execution_count": 65,
   "id": "b05344a7-12db-4e60-9ddd-5d2cac1ce04a",
   "metadata": {},
   "outputs": [],
   "source": [
    "def jacobi_sequence(k: int, start: int = 1, length: int | None = None, map_zero_to: int = +1) -> np.ndarray:\n",
    "    \"\"\"\n",
    "    Build a Jacobi-based ±1 sequence over modulus k (odd).\n",
    "      - start: first n to evaluate (typical: 1)\n",
    "      - For GPS, we need start = 0\n",
    "      - length: number of terms; default = k - start (so 1..k-1 if start=1)\n",
    "      - map_zero_to: map any 0 results to ±1 to keep a binary alphabet\n",
    "    \"\"\"\n",
    "    assert k > 0 and k % 2 == 1\n",
    "    if length is None:\n",
    "        length = k - start\n",
    "    ns = np.arange(start, start + length, dtype=np.int64)\n",
    "\n",
    "    # Vectorize the scalar jacobi() while keeping identical semantics.\n",
    "    vjac = np.vectorize(lambda n: jacobi(int(n), k), otypes=[int])\n",
    "    vals = vjac(ns).astype(np.int8)\n",
    "\n",
    "    if map_zero_to not in (-1, 0, +1):\n",
    "        raise ValueError(\"map_zero_to must be one of 0, +1, -1\")\n",
    "    vals[vals == 0] = map_zero_to\n",
    "\n",
    "    # vals is in {-1, +1}. If you need {0,1}, use: (vals > 0).astype(np.uint8)\n",
    "    return vals"
   ]
  },
  {
   "cell_type": "code",
   "execution_count": 66,
   "id": "9a825ccc-1109-430c-ace8-cb5c3e8e45dd",
   "metadata": {},
   "outputs": [
    {
     "name": "stdout",
     "output_type": "stream",
     "text": [
      "[ 0  1 -1  1  1  1 -1 -1 -1  1 -1] … len = 11\n"
     ]
    }
   ],
   "source": [
    "#k = 101  # must be odd\n",
    "k = 11\n",
    "chips_pm1 = jacobi_sequence(k, start=0, map_zero_to=0)              # ±1 chips\n",
    "#chips_01  = (chips_pm1 > 0).astype(np.uint8)  # 0/1 chips if needed\n",
    "print(chips_pm1, \"… len =\", chips_pm1.size)"
   ]
  },
  {
   "cell_type": "code",
   "execution_count": 29,
   "id": "a4ba15fb-022e-41ba-b374-0fb7bd6c5cc2",
   "metadata": {},
   "outputs": [
    {
     "name": "stdout",
     "output_type": "stream",
     "text": [
      "[ 1 -1 -1  1  1  1 -1 -1  1 -1 -1 -1  1  1 -1  1  1 -1  1  1  1  1  1  1\n",
      "  1 -1 -1 -1 -1  1  1 -1] ... len = 100\n"
     ]
    }
   ],
   "source": [
    "print (chips_pm1[:32], \"... len =\", chips_pm1.size)"
   ]
  },
  {
   "cell_type": "code",
   "execution_count": 68,
   "id": "c980b2b8-028a-4431-bb84-ee168aafa1c1",
   "metadata": {},
   "outputs": [],
   "source": [
    "def l1c_pilot_weil(w: int, p: int, *, k: int, N0: int, alphabet: str = \"pm1\") -> np.ndarray:\n",
    "    \"\"\"\n",
    "    Generate an L1C Pilot spreading sequence via Weil/Jacobi construction.\n",
    "\n",
    "    Parameters\n",
    "    ----------\n",
    "    w : int\n",
    "        Weil index for the PRN.\n",
    "    p : int\n",
    "        Insertion point (1-based).\n",
    "    k : int\n",
    "        Odd modulus from the ICD table (e.g. 10223).\n",
    "    N0 : int\n",
    "        Number of chips (pilot sequence length).\n",
    "    alphabet : {\"pm1\", \"01\"}\n",
    "        Output alphabet: ±1 (pm1) or {0,1}.\n",
    "\n",
    "    Returns\n",
    "    -------\n",
    "    chips : np.ndarray\n",
    "        1D array of length N0 in the requested alphabet.\n",
    "    \"\"\"\n",
    "\n",
    "    # quadratic residue indicator\n",
    "    idx = np.arange(k, dtype=np.int64)\n",
    "    vjac = np.vectorize(lambda n: jacobi(int(n), k, start=0, map_zero_to=0))\n",
    "    resid01 = (vjac(idx) == 1).astype(np.uint8)\n",
    "\n",
    "    # Weil code: XOR with shifted copy\n",
    "    resid01_shift = np.roll(resid01, w % k)\n",
    "    weil01 = resid01 ^ resid01_shift\n",
    "\n",
    "    # Extract N0 chips starting at insertion point p (1-based)\n",
    "    start = (p - 1) % k\n",
    "    if N0 <= k - start:\n",
    "        out01 = weil01[start:start + N0].copy()\n",
    "    else:\n",
    "        out01 = np.concatenate((weil01[start:], weil01[:N0 - (k - start)]))\n",
    "\n",
    "    if alphabet == \"01\":\n",
    "        return out01\n",
    "    elif alphabet == \"pm1\":\n",
    "        return (out01 * 2 - 1).astype(np.int8)\n",
    "    else:\n",
    "        raise ValueError(\"alphabet must be 'pm1' or '01'\")\n"
   ]
  },
  {
   "cell_type": "code",
   "execution_count": 71,
   "id": "c0d6ff81-d443-42e2-8c99-0ed2b0517a08",
   "metadata": {},
   "outputs": [],
   "source": [
    "import numpy as np\n",
    "\n",
    "# Scalar jacobi(n,k) — your tested version goes here\n",
    "\n",
    "def jacobi_full_sequence(k: int) -> np.ndarray:\n",
    "    \"\"\"L(n) for n=0..k-1 in {-1,0,+1}. Use this for GPS L1C construction.\"\"\"\n",
    "    return np.array([jacobi(n, k) for n in range(k)], dtype=np.int8)\n",
    "\n",
    "def l1c_pilot_from_symbols(W: int, P: int, *,\n",
    "                           k: int = 10223, N0: int = 10230,\n",
    "                           p_base: int = 1, shift: str = \"right\",\n",
    "                           out: str = \"01\",\n",
    "                           L: np.ndarray | None = None) -> np.ndarray:\n",
    "    \"\"\"\n",
    "    Build L1C pilot using L(n) in {-1,0,+1}:\n",
    "      w(n) = (1 - L(n)*L(n+W)) / 2  in {0,1}\n",
    "    - p_base=1 because ICD tables list P as 1-based.\n",
    "    - shift='right' means L(n+W); use 'left' for L(n-W).\n",
    "    - out='01' or 'pm1'.\n",
    "    - Optionally pass a precomputed L to avoid recomputing per PRN.\n",
    "    \"\"\"\n",
    "    if L is None:\n",
    "        L = jacobi_full_sequence(k)  # includes n=0 term == 0\n",
    "    Wm = W % k\n",
    "    Ls = np.roll(L, Wm if shift == \"right\" else -Wm)\n",
    "\n",
    "    # Weil bits from symbol product (keep zeros intact here)\n",
    "    prod = (L.astype(np.int16) * Ls.astype(np.int16))      # {-1,0,+1}\n",
    "    weil01 = ((1 - prod) // 2).astype(np.uint8)            # +1->0, 0/-1->1\n",
    "\n",
    "    # Extract N0 chips starting at insertion point P (1-based default)\n",
    "    start = (P - p_base) % k\n",
    "    if N0 <= k - start:\n",
    "        out01 = weil01[start:start + N0].copy()\n",
    "    else:\n",
    "        tail = k - start\n",
    "        out01 = np.concatenate((weil01[start:], weil01[:N0 - tail]))\n",
    "\n",
    "    if out == \"01\":\n",
    "        return out01\n",
    "    elif out == \"pm1\":\n",
    "        return (out01 * 2 - 1).astype(np.int8)\n",
    "    else:\n",
    "        raise ValueError(\"out must be '01' or 'pm1'\")\n"
   ]
  },
  {
   "cell_type": "code",
   "execution_count": 72,
   "id": "b4eb9a78-9a0d-48a9-8bdf-5b1f9e4373c1",
   "metadata": {},
   "outputs": [
    {
     "name": "stdout",
     "output_type": "stream",
     "text": [
      "[ 0  1 -1  1  1  1 -1 -1 -1  1 -1]\n"
     ]
    }
   ],
   "source": [
    "print (jacobi_full_sequence(11))"
   ]
  },
  {
   "cell_type": "code",
   "execution_count": null,
   "id": "7629f7ca-95ab-414d-a45f-51eb1b31fa94",
   "metadata": {},
   "outputs": [],
   "source": [
    "import numpy as np\n",
    "\n",
    "# Scalar jacobi(n,k) — your tested version goes here\n",
    "\n",
    "def jacobi_full_sequence(k: int) -> np.ndarray:\n",
    "    \"\"\"L(n) for n=0..k-1 in {-1,0,+1}. Use this for GPS L1C construction.\"\"\"\n",
    "    return np.array([jacobi(n, k) for n in range(k)], dtype=np.int8)\n",
    "\n",
    "def l1c_pilot_from_symbols(W: int, P: int, *,\n",
    "                           k: int = 10223, N0: int = 10230,\n",
    "                           p_base: int = 1, shift: str = \"right\",\n",
    "                           out: str = \"01\",\n",
    "                           L: np.ndarray | None = None) -> np.ndarray:\n",
    "    \"\"\"\n",
    "    Build L1C pilot using L(n) in {-1,0,+1}:\n",
    "      w(n) = (1 - L(n)*L(n+W)) / 2  in {0,1}\n",
    "    - p_base=1 because ICD tables list P as 1-based.\n",
    "    - shift='right' means L(n+W); use 'left' for L(n-W).\n",
    "    - out='01' or 'pm1'.\n",
    "    - Optionally pass a precomputed L to avoid recomputing per PRN.\n",
    "    \"\"\"\n",
    "    if L is None:\n",
    "        L = jacobi_full_sequence(k)  # includes n=0 term == 0\n",
    "    Wm = W % k\n",
    "    Ls = np.roll(L, Wm if shift == \"right\" else -Wm)\n",
    "\n",
    "    # Weil bits from symbol product (keep zeros intact here)\n",
    "    prod = (L.astype(np.int16) * Ls.astype(np.int16))      # {-1,0,+1}\n",
    "    weil01 = ((1 - prod) // 2).astype(np.uint8)            # +1->0, 0/-1->1\n",
    "\n",
    "    # Extract N0 chips starting at insertion point P (1-based default)\n",
    "    start = (P - p_base) % k\n",
    "    if N0 <= k - start:\n",
    "        out01 = weil01[start:start + N0].copy()\n",
    "    else:\n",
    "        tail = k - start\n",
    "        out01 = np.concatenate((weil01[start:], weil01[:N0 - tail]))\n",
    "\n",
    "    if out == \"01\":\n",
    "        return out01\n",
    "    elif out == \"pm1\":\n",
    "        return (out01 * 2 - 1).astype(np.int8)\n",
    "    else:\n",
    "        raise ValueError(\"out must be '01' or 'pm1'\")\n"
   ]
  },
  {
   "cell_type": "code",
   "execution_count": 69,
   "id": "2b9901a8-81c7-495b-8a79-fe55e03e1e05",
   "metadata": {},
   "outputs": [
    {
     "name": "stdout",
     "output_type": "stream",
     "text": [
      "W = 5111, P=412\n"
     ]
    },
    {
     "ename": "TypeError",
     "evalue": "jacobi() got an unexpected keyword argument 'start'",
     "output_type": "error",
     "traceback": [
      "\u001b[31m---------------------------------------------------------------------------\u001b[39m",
      "\u001b[31mTypeError\u001b[39m                                 Traceback (most recent call last)",
      "\u001b[36mCell\u001b[39m\u001b[36m \u001b[39m\u001b[32mIn[69]\u001b[39m\u001b[32m, line 5\u001b[39m\n\u001b[32m      3\u001b[39m p_pilot = l1c_table.at[PRN, \u001b[33m\"\u001b[39m\u001b[33mp_pilot\u001b[39m\u001b[33m\"\u001b[39m]\n\u001b[32m      4\u001b[39m \u001b[38;5;28mprint\u001b[39m (\u001b[33mf\u001b[39m\u001b[33m\"\u001b[39m\u001b[33mW = \u001b[39m\u001b[38;5;132;01m{\u001b[39;00mw_pilot\u001b[38;5;132;01m}\u001b[39;00m\u001b[33m, P=\u001b[39m\u001b[38;5;132;01m{\u001b[39;00mp_pilot\u001b[38;5;132;01m}\u001b[39;00m\u001b[33m\"\u001b[39m)\n\u001b[32m----> \u001b[39m\u001b[32m5\u001b[39m chips_pm1 = \u001b[43ml1c_pilot_weil\u001b[49m\u001b[43m(\u001b[49m\n\u001b[32m      6\u001b[39m \u001b[43m    \u001b[49m\u001b[43mw\u001b[49m\u001b[43m=\u001b[49m\u001b[43mw_pilot\u001b[49m\u001b[43m,\u001b[49m\n\u001b[32m      7\u001b[39m \u001b[43m    \u001b[49m\u001b[43mp\u001b[49m\u001b[43m=\u001b[49m\u001b[43mp_pilot\u001b[49m\u001b[43m,\u001b[49m\n\u001b[32m      8\u001b[39m \u001b[43m    \u001b[49m\u001b[43mk\u001b[49m\u001b[43m=\u001b[49m\u001b[32;43m10223\u001b[39;49m\u001b[43m,\u001b[49m\n\u001b[32m      9\u001b[39m \u001b[43m    \u001b[49m\u001b[43mN0\u001b[49m\u001b[43m=\u001b[49m\u001b[32;43m10230\u001b[39;49m\u001b[43m,\u001b[49m\n\u001b[32m     10\u001b[39m \u001b[43m    \u001b[49m\u001b[43malphabet\u001b[49m\u001b[43m=\u001b[49m\u001b[33;43m\"\u001b[39;49m\u001b[33;43m01\u001b[39;49m\u001b[33;43m\"\u001b[39;49m\n\u001b[32m     11\u001b[39m \u001b[43m)\u001b[49m\n\u001b[32m     13\u001b[39m \u001b[38;5;28mprint\u001b[39m(chips_pm1[:\u001b[32m32\u001b[39m])\n\u001b[32m     14\u001b[39m \u001b[38;5;28mprint\u001b[39m(chips_pm1.shape)\n",
      "\u001b[36mCell\u001b[39m\u001b[36m \u001b[39m\u001b[32mIn[68]\u001b[39m\u001b[32m, line 27\u001b[39m, in \u001b[36ml1c_pilot_weil\u001b[39m\u001b[34m(w, p, k, N0, alphabet)\u001b[39m\n\u001b[32m     25\u001b[39m idx = np.arange(k, dtype=np.int64)\n\u001b[32m     26\u001b[39m vjac = np.vectorize(\u001b[38;5;28;01mlambda\u001b[39;00m n: jacobi(\u001b[38;5;28mint\u001b[39m(n), k, start=\u001b[32m0\u001b[39m, map_zero_to=\u001b[32m0\u001b[39m))\n\u001b[32m---> \u001b[39m\u001b[32m27\u001b[39m resid01 = (\u001b[43mvjac\u001b[49m\u001b[43m(\u001b[49m\u001b[43midx\u001b[49m\u001b[43m)\u001b[49m == \u001b[32m1\u001b[39m).astype(np.uint8)\n\u001b[32m     29\u001b[39m \u001b[38;5;66;03m# Weil code: XOR with shifted copy\u001b[39;00m\n\u001b[32m     30\u001b[39m resid01_shift = np.roll(resid01, w % k)\n",
      "\u001b[36mFile \u001b[39m\u001b[32m~/cu_gnss/cugnss-python/.venv/lib/python3.12/site-packages/numpy/lib/_function_base_impl.py:2544\u001b[39m, in \u001b[36mvectorize.__call__\u001b[39m\u001b[34m(self, *args, **kwargs)\u001b[39m\n\u001b[32m   2541\u001b[39m     \u001b[38;5;28mself\u001b[39m._init_stage_2(*args, **kwargs)\n\u001b[32m   2542\u001b[39m     \u001b[38;5;28;01mreturn\u001b[39;00m \u001b[38;5;28mself\u001b[39m\n\u001b[32m-> \u001b[39m\u001b[32m2544\u001b[39m \u001b[38;5;28;01mreturn\u001b[39;00m \u001b[38;5;28;43mself\u001b[39;49m\u001b[43m.\u001b[49m\u001b[43m_call_as_normal\u001b[49m\u001b[43m(\u001b[49m\u001b[43m*\u001b[49m\u001b[43margs\u001b[49m\u001b[43m,\u001b[49m\u001b[43m \u001b[49m\u001b[43m*\u001b[49m\u001b[43m*\u001b[49m\u001b[43mkwargs\u001b[49m\u001b[43m)\u001b[49m\n",
      "\u001b[36mFile \u001b[39m\u001b[32m~/cu_gnss/cugnss-python/.venv/lib/python3.12/site-packages/numpy/lib/_function_base_impl.py:2537\u001b[39m, in \u001b[36mvectorize._call_as_normal\u001b[39m\u001b[34m(self, *args, **kwargs)\u001b[39m\n\u001b[32m   2534\u001b[39m     vargs = [args[_i] \u001b[38;5;28;01mfor\u001b[39;00m _i \u001b[38;5;129;01min\u001b[39;00m inds]\n\u001b[32m   2535\u001b[39m     vargs.extend([kwargs[_n] \u001b[38;5;28;01mfor\u001b[39;00m _n \u001b[38;5;129;01min\u001b[39;00m names])\n\u001b[32m-> \u001b[39m\u001b[32m2537\u001b[39m \u001b[38;5;28;01mreturn\u001b[39;00m \u001b[38;5;28;43mself\u001b[39;49m\u001b[43m.\u001b[49m\u001b[43m_vectorize_call\u001b[49m\u001b[43m(\u001b[49m\u001b[43mfunc\u001b[49m\u001b[43m=\u001b[49m\u001b[43mfunc\u001b[49m\u001b[43m,\u001b[49m\u001b[43m \u001b[49m\u001b[43margs\u001b[49m\u001b[43m=\u001b[49m\u001b[43mvargs\u001b[49m\u001b[43m)\u001b[49m\n",
      "\u001b[36mFile \u001b[39m\u001b[32m~/cu_gnss/cugnss-python/.venv/lib/python3.12/site-packages/numpy/lib/_function_base_impl.py:2622\u001b[39m, in \u001b[36mvectorize._vectorize_call\u001b[39m\u001b[34m(self, func, args)\u001b[39m\n\u001b[32m   2620\u001b[39m     res = func()\n\u001b[32m   2621\u001b[39m \u001b[38;5;28;01melse\u001b[39;00m:\n\u001b[32m-> \u001b[39m\u001b[32m2622\u001b[39m     ufunc, otypes = \u001b[38;5;28;43mself\u001b[39;49m\u001b[43m.\u001b[49m\u001b[43m_get_ufunc_and_otypes\u001b[49m\u001b[43m(\u001b[49m\u001b[43mfunc\u001b[49m\u001b[43m=\u001b[49m\u001b[43mfunc\u001b[49m\u001b[43m,\u001b[49m\u001b[43m \u001b[49m\u001b[43margs\u001b[49m\u001b[43m=\u001b[49m\u001b[43margs\u001b[49m\u001b[43m)\u001b[49m\n\u001b[32m   2623\u001b[39m     \u001b[38;5;66;03m# gh-29196: `dtype=object` should eventually be removed\u001b[39;00m\n\u001b[32m   2624\u001b[39m     args = [asanyarray(a, dtype=\u001b[38;5;28mobject\u001b[39m) \u001b[38;5;28;01mfor\u001b[39;00m a \u001b[38;5;129;01min\u001b[39;00m args]\n",
      "\u001b[36mFile \u001b[39m\u001b[32m~/cu_gnss/cugnss-python/.venv/lib/python3.12/site-packages/numpy/lib/_function_base_impl.py:2582\u001b[39m, in \u001b[36mvectorize._get_ufunc_and_otypes\u001b[39m\u001b[34m(self, func, args)\u001b[39m\n\u001b[32m   2578\u001b[39m     \u001b[38;5;28;01mraise\u001b[39;00m \u001b[38;5;167;01mValueError\u001b[39;00m(\u001b[33m'\u001b[39m\u001b[33mcannot call `vectorize` on size 0 inputs \u001b[39m\u001b[33m'\u001b[39m\n\u001b[32m   2579\u001b[39m                      \u001b[33m'\u001b[39m\u001b[33munless `otypes` is set\u001b[39m\u001b[33m'\u001b[39m)\n\u001b[32m   2581\u001b[39m inputs = [arg.flat[\u001b[32m0\u001b[39m] \u001b[38;5;28;01mfor\u001b[39;00m arg \u001b[38;5;129;01min\u001b[39;00m args]\n\u001b[32m-> \u001b[39m\u001b[32m2582\u001b[39m outputs = \u001b[43mfunc\u001b[49m\u001b[43m(\u001b[49m\u001b[43m*\u001b[49m\u001b[43minputs\u001b[49m\u001b[43m)\u001b[49m\n\u001b[32m   2584\u001b[39m \u001b[38;5;66;03m# Performance note: profiling indicates that -- for simple\u001b[39;00m\n\u001b[32m   2585\u001b[39m \u001b[38;5;66;03m# functions at least -- this wrapping can almost double the\u001b[39;00m\n\u001b[32m   2586\u001b[39m \u001b[38;5;66;03m# execution time.\u001b[39;00m\n\u001b[32m   2587\u001b[39m \u001b[38;5;66;03m# Hence we make it optional.\u001b[39;00m\n\u001b[32m   2588\u001b[39m \u001b[38;5;28;01mif\u001b[39;00m \u001b[38;5;28mself\u001b[39m.cache:\n",
      "\u001b[36mCell\u001b[39m\u001b[36m \u001b[39m\u001b[32mIn[68]\u001b[39m\u001b[32m, line 26\u001b[39m, in \u001b[36ml1c_pilot_weil.<locals>.<lambda>\u001b[39m\u001b[34m(n)\u001b[39m\n\u001b[32m     24\u001b[39m \u001b[38;5;66;03m# quadratic residue indicator\u001b[39;00m\n\u001b[32m     25\u001b[39m idx = np.arange(k, dtype=np.int64)\n\u001b[32m---> \u001b[39m\u001b[32m26\u001b[39m vjac = np.vectorize(\u001b[38;5;28;01mlambda\u001b[39;00m n: \u001b[43mjacobi\u001b[49m\u001b[43m(\u001b[49m\u001b[38;5;28;43mint\u001b[39;49m\u001b[43m(\u001b[49m\u001b[43mn\u001b[49m\u001b[43m)\u001b[49m\u001b[43m,\u001b[49m\u001b[43m \u001b[49m\u001b[43mk\u001b[49m\u001b[43m,\u001b[49m\u001b[43m \u001b[49m\u001b[43mstart\u001b[49m\u001b[43m=\u001b[49m\u001b[32;43m0\u001b[39;49m\u001b[43m,\u001b[49m\u001b[43m \u001b[49m\u001b[43mmap_zero_to\u001b[49m\u001b[43m=\u001b[49m\u001b[32;43m0\u001b[39;49m\u001b[43m)\u001b[49m)\n\u001b[32m     27\u001b[39m resid01 = (vjac(idx) == \u001b[32m1\u001b[39m).astype(np.uint8)\n\u001b[32m     29\u001b[39m \u001b[38;5;66;03m# Weil code: XOR with shifted copy\u001b[39;00m\n",
      "\u001b[31mTypeError\u001b[39m: jacobi() got an unexpected keyword argument 'start'"
     ]
    }
   ],
   "source": [
    "PRN = 1\n",
    "w_pilot = l1c_table.at[PRN, \"w_pilot\"]\n",
    "p_pilot = l1c_table.at[PRN, \"p_pilot\"]\n",
    "print (f\"W = {w_pilot}, P={p_pilot}\")\n",
    "chips_pm1 = l1c_pilot_weil(\n",
    "    w=w_pilot,\n",
    "    p=p_pilot,\n",
    "    k=10223,\n",
    "    N0=10230,\n",
    "    alphabet=\"01\"\n",
    ")\n",
    "\n",
    "print(chips_pm1[:32])\n",
    "print(chips_pm1.shape)"
   ]
  },
  {
   "cell_type": "code",
   "execution_count": 70,
   "id": "660a3a82-3c5c-442b-ae17-7e14e48cbf7f",
   "metadata": {},
   "outputs": [
    {
     "ename": "ValueError",
     "evalue": "cannot reshape array of size 11 into shape (3)",
     "output_type": "error",
     "traceback": [
      "\u001b[31m---------------------------------------------------------------------------\u001b[39m",
      "\u001b[31mValueError\u001b[39m                                Traceback (most recent call last)",
      "\u001b[36mCell\u001b[39m\u001b[36m \u001b[39m\u001b[32mIn[70]\u001b[39m\u001b[32m, line 1\u001b[39m\n\u001b[32m----> \u001b[39m\u001b[32m1\u001b[39m groups = \u001b[43mchips_pm1\u001b[49m\u001b[43m.\u001b[49m\u001b[43mreshape\u001b[49m\u001b[43m(\u001b[49m\u001b[43m-\u001b[49m\u001b[32;43m1\u001b[39;49m\u001b[43m,\u001b[49m\u001b[32;43m3\u001b[39;49m\u001b[43m)\u001b[49m\n\u001b[32m      2\u001b[39m \u001b[38;5;28mprint\u001b[39m(groups.shape)\n",
      "\u001b[31mValueError\u001b[39m: cannot reshape array of size 11 into shape (3)"
     ]
    }
   ],
   "source": [
    "groups = chips_pm1.reshape(-1,3)\n",
    "print(groups.shape)"
   ]
  },
  {
   "cell_type": "code",
   "execution_count": 44,
   "id": "f818118c-2cab-4964-bcb7-56ee2f695614",
   "metadata": {},
   "outputs": [],
   "source": [
    "oct_digits = [str(int(''.join(map(str, g)), 2)) for g in groups]"
   ]
  },
  {
   "cell_type": "code",
   "execution_count": 45,
   "id": "b2183ca1-1b1c-4f4a-9e7a-45462ff907b8",
   "metadata": {},
   "outputs": [
    {
     "name": "stdout",
     "output_type": "stream",
     "text": [
      "[[1 0 1]\n",
      " [0 0 0]\n",
      " [0 0 0]\n",
      " [1 1 0]\n",
      " [1 0 1]\n",
      " [1 0 0]\n",
      " [0 0 1]\n",
      " [1 0 0]\n",
      " [0 0 0]\n",
      " [0 0 1]]\n"
     ]
    }
   ],
   "source": [
    "print (groups[:10,:])"
   ]
  },
  {
   "cell_type": "code",
   "execution_count": 49,
   "id": "ce2ef91c-9a23-4aee-898c-d0ac0c7be12f",
   "metadata": {},
   "outputs": [
    {
     "name": "stdout",
     "output_type": "stream",
     "text": [
      "['5', '0', '0', '6', '5', '4', '1', '4', '0', '1']\n"
     ]
    }
   ],
   "source": [
    "#print (oct_digits.shape())\n",
    "print (oct_digits[:10])"
   ]
  },
  {
   "cell_type": "code",
   "execution_count": 51,
   "id": "0c3a1e19-fdcb-4818-ae79-4c01333722ae",
   "metadata": {},
   "outputs": [],
   "source": [
    "import numpy as np\n",
    "from dataclasses import dataclass\n",
    "\n",
    "# --- Core: Jacobi, residue, Weil, slice ---\n",
    "def jacobi(n: int, k: int) -> int:\n",
    "    assert k > 0 and (k % 2 == 1)\n",
    "    n = n % k\n",
    "    t = 1\n",
    "    while n != 0:\n",
    "        while n % 2 == 0:\n",
    "            n //= 2\n",
    "            r = k % 8\n",
    "            if r == 3 or r == 5:\n",
    "                t = -t\n",
    "        n, k = k, n\n",
    "        if (n % 4 == 3) and (k % 4 == 3):\n",
    "            t = -t\n",
    "        n = n % k\n",
    "    return t if k == 1 else 0\n",
    "\n",
    "def residue_indicator(k: int, map_zero_to_one: bool = True) -> np.ndarray:\n",
    "    \"\"\"Return resid01[n] = 1 if (n/k)==+1, else 0; map Jacobi==0 to {1 or 0}.\"\"\"\n",
    "    idx = np.arange(k, dtype=np.int64)\n",
    "    vjac = np.vectorize(lambda n: jacobi(int(n), k), otypes=[int])\n",
    "    jvals = vjac(idx).astype(np.int8)\n",
    "    resid01 = (jvals == 1).astype(np.uint8)\n",
    "    if map_zero_to_one:\n",
    "        resid01[jvals == 0] = 1\n",
    "    # else: leave 0 for Jacobi==0\n",
    "    return resid01\n",
    "\n",
    "@dataclass\n",
    "class L1cOptions:\n",
    "    k: int = 10223             # modulus for Jacobi/Weil\n",
    "    N0: int = 10230            # output length (pilot)\n",
    "    map_zero_to_one: bool = False  # ICDs typically treat Jacobi==0 as 0 in indicator\n",
    "    shift_direction: str = \"right\" # \"right\" => np.roll(+w); \"left\" => np.roll(-w)\n",
    "    xor: bool = True           # True: XOR (Weil standard); False: XNOR (inversion)\n",
    "    p_base: int = 1            # 1 if insertion point p is 1-based; 0 if p is 0-based\n",
    "    invert: bool = False       # invert entire output after slice\n",
    "    octal_msb_first: bool = True   # group bits MSB-first into octal\n",
    "    reverse_bits_in_group: bool = False  # swap bit order within each 3-bit chunk\n",
    "\n",
    "def build_l1c_pilot(w: int, p: int, opt: L1cOptions) -> np.ndarray:\n",
    "    k = opt.k\n",
    "    resid01 = residue_indicator(k, map_zero_to_one=opt.map_zero_to_one)\n",
    "\n",
    "    # shifted copy\n",
    "    if opt.shift_direction == \"right\":\n",
    "        resid01_shift = np.roll(resid01, w % k)\n",
    "    elif opt.shift_direction == \"left\":\n",
    "        resid01_shift = np.roll(resid01, -(w % k))\n",
    "    else:\n",
    "        raise ValueError(\"shift_direction must be 'right' or 'left'\")\n",
    "\n",
    "    # XOR or XNOR\n",
    "    if opt.xor:\n",
    "        weil01 = (resid01 ^ resid01_shift).astype(np.uint8)\n",
    "    else:\n",
    "        weil01 = (1 - (resid01 ^ resid01_shift)).astype(np.uint8)\n",
    "\n",
    "    # insertion point\n",
    "    start = (p - opt.p_base) % k\n",
    "\n",
    "    # slice with wrap\n",
    "    N0 = opt.N0\n",
    "    if N0 <= k - start:\n",
    "        out01 = weil01[start:start + N0].copy()\n",
    "    else:\n",
    "        tail = k - start\n",
    "        head = N0 - tail\n",
    "        out01 = np.concatenate((weil01[start:], weil01[:head]))\n",
    "\n",
    "    if opt.invert:\n",
    "        out01 = 1 - out01\n",
    "    return out01\n",
    "\n",
    "# --- Octal helpers & pretty printing ---\n",
    "def bits01_to_octal(bits01: np.ndarray, msb_first: bool = True, reverse_bits_in_group: bool = False) -> str:\n",
    "    \"\"\"Pack 0/1 bits to octal string, 3 bits per digit.\"\"\"\n",
    "    # truncate to multiple of 3 for clean comparison\n",
    "    n = (bits01.size // 3) * 3\n",
    "    b = bits01[:n].reshape(-1, 3)\n",
    "    if reverse_bits_in_group:\n",
    "        b = b[:, ::-1]\n",
    "    if msb_first:\n",
    "        vals = (b[:,0] << 2) | (b[:,1] << 1) | b[:,2]\n",
    "    else:\n",
    "        # if someone meant LSB-first groups\n",
    "        vals = b[:,0] | (b[:,1] << 1) | (b[:,2] << 2)\n",
    "    return \"\".join(str(int(v)) for v in vals)\n",
    "\n",
    "def show(vec, n=24, label=\"\"):\n",
    "    s = \"\".join(\"1\" if x else \"0\" for x in vec[:n])\n",
    "    print(f\"{label}{s} …\")\n",
    "\n",
    "def debug_l1c_pilot(w: int, p: int, *, expected_octal_prefix: str | None = None, opt: L1cOptions | None = None):\n",
    "    \"\"\"\n",
    "    Print a step-by-step view and a few octal variants to pinpoint mismatches.\n",
    "    \"\"\"\n",
    "    if opt is None:\n",
    "        opt = L1cOptions()\n",
    "\n",
    "    print(\"=== Parameters ===\")\n",
    "    print(opt)\n",
    "    print(f\"w={w}, p={p}\")\n",
    "    print(\"Building sequences…\")\n",
    "\n",
    "    k = opt.k\n",
    "    resid01 = residue_indicator(k, map_zero_to_one=opt.map_zero_to_one)\n",
    "    show(resid01, 24, \"resid01[0:24]      = \")\n",
    "\n",
    "    resid01_shift = np.roll(resid01, (w % k) if opt.shift_direction==\"right\" else -(w % k))\n",
    "    show(resid01_shift, 24, \"resid01_shift    = \")\n",
    "\n",
    "    if opt.xor:\n",
    "        weil01 = (resid01 ^ resid01_shift).astype(np.uint8)\n",
    "        print(\"combination        : XOR\")\n",
    "    else:\n",
    "        weil01 = (1 - (resid01 ^ resid01_shift)).astype(np.uint8)\n",
    "        print(\"combination        : XNOR\")\n",
    "\n",
    "    show(weil01, 24, \"weil01[0:24]      = \")\n",
    "\n",
    "    start = (p - opt.p_base) % k\n",
    "    win = np.concatenate((weil01[start:start+24],))  # peek window\n",
    "    show(win, 24, f\"window@start={start} = \")\n",
    "\n",
    "    out01 = build_l1c_pilot(w, p, opt)\n",
    "    show(out01, 48, \"out01[0:48]       = \")\n",
    "\n",
    "    oct_std   = bits01_to_octal(out01, msb_first=True,  reverse_bits_in_group=False)\n",
    "    oct_rev   = bits01_to_octal(out01, msb_first=True,  reverse_bits_in_group=True)\n",
    "    oct_lsb   = bits01_to_octal(out01, msb_first=False, reverse_bits_in_group=False)\n",
    "    oct_lsb_r = bits01_to_octal(out01, msb_first=False, reverse_bits_in_group=True)\n",
    "\n",
    "    print(\"\\nOctal (first 32 digits, different packing conventions):\")\n",
    "    print(\"MSB-first, group normal : \", oct_std[:32])\n",
    "    print(\"MSB-first, group reversed: \", oct_rev[:32])\n",
    "    print(\"LSB-first, group normal : \", oct_lsb[:32])\n",
    "    print(\"LSB-first, group reversed: \", oct_lsb_r[:32])\n",
    "\n",
    "    if expected_octal_prefix:\n",
    "        print(\"\\nComparing to expected prefix:\")\n",
    "        candidates = {\n",
    "            \"MSB-first, group normal\": oct_std,\n",
    "            \"MSB-first, group reversed\": oct_rev,\n",
    "            \"LSB-first, group normal\": oct_lsb,\n",
    "            \"LSB-first, group reversed\": oct_lsb_r,\n",
    "        }\n",
    "        for name, octs in candidates.items():\n",
    "            match_len = 0\n",
    "            for a, b in zip(octs, expected_octal_prefix):\n",
    "                if a == b:\n",
    "                    match_len += 1\n",
    "                else:\n",
    "                    break\n",
    "            print(f\"{name:27s} match {match_len} octal digits\")\n"
   ]
  },
  {
   "cell_type": "code",
   "execution_count": 54,
   "id": "8ad3decd-9eb1-43c5-9ed9-947554f195d4",
   "metadata": {},
   "outputs": [
    {
     "name": "stdout",
     "output_type": "stream",
     "text": [
      "W = 5111, P=412\n",
      "=== Parameters ===\n",
      "L1cOptions(k=10223, N0=10230, map_zero_to_one=False, shift_direction='right', xor=True, p_base=1, invert=False, octal_msb_first=True, reverse_bits_in_group=False)\n",
      "w=5111, p=412\n",
      "Building sequences…\n",
      "resid01[0:24]      = 011110111100101010100101 …\n",
      "resid01_shift    = 110110000011110100100100 …\n",
      "combination        : XOR\n",
      "weil01[0:24]      = 101000111111011110000001 …\n",
      "window@start=411 = 101000000110101100001100 …\n",
      "out01[0:48]       = 101000000110101100001100000001000011110101100011 …\n",
      "\n",
      "Octal (first 32 digits, different packing conventions):\n",
      "MSB-first, group normal :  50065414010365433711121652067557\n",
      "MSB-first, group reversed:  50035141040635166744424352037557\n",
      "LSB-first, group normal :  50035141040635166744424352037557\n",
      "LSB-first, group reversed:  50065414010365433711121652067557\n",
      "\n",
      "Comparing to expected prefix:\n",
      "MSB-first, group normal     match 0 octal digits\n",
      "MSB-first, group reversed   match 0 octal digits\n",
      "LSB-first, group normal     match 0 octal digits\n",
      "LSB-first, group reversed   match 0 octal digits\n"
     ]
    }
   ],
   "source": [
    "PRN = 1\n",
    "w_pilot = l1c_table.at[PRN, \"w_pilot\"]\n",
    "p_pilot = l1c_table.at[PRN, \"p_pilot\"]\n",
    "print (f\"W = {w_pilot}, P={p_pilot}\")\n",
    "opt = L1cOptions(\n",
    "    k=10223, N0=10230,\n",
    "    map_zero_to_one=False,   # Legendre indicator: 0 stays 0\n",
    "    shift_direction=\"right\", # np.roll(+w)\n",
    "    xor=True,                # XOR for Weil\n",
    "    p_base=1,                # p is 1-based per ICD tables\n",
    "    invert=False,            # no global inversion\n",
    "    octal_msb_first=True,\n",
    "    reverse_bits_in_group=False\n",
    ")\n",
    "\n",
    "# If you know the first N octal digits from the table for this PRN, put them here:\n",
    "expected = l1c_table.at[PRN, \"Initial_pilot_code\"]  # e.g., \"1732050...\"  (leave None if you don't have it handy)\n",
    "\n",
    "debug_l1c_pilot(w_pilot, p_pilot, expected_octal_prefix=expected, opt=opt)"
   ]
  },
  {
   "cell_type": "code",
   "execution_count": 55,
   "id": "714edcd2-59b0-4810-9679-d9d999724cb4",
   "metadata": {},
   "outputs": [],
   "source": [
    "def jacobi(n: int, k: int) -> int:\n",
    "    assert k > 0 and (k % 2 == 1)\n",
    "    n = n % k\n",
    "    t = 1\n",
    "    while n != 0:\n",
    "        while n % 2 == 0:\n",
    "            n //= 2\n",
    "            r = k % 8\n",
    "            if r == 3 or r == 5:\n",
    "                t = -t\n",
    "        n, k = k, n\n",
    "        if (n % 4 == 3) and (k % 4 == 3):\n",
    "            t = -t\n",
    "        n = n % k\n",
    "    return t if k == 1 else 0\n",
    "\n",
    "def l1c_pilot_from_symbols(w: int, p: int, *, k: int = 10223, N0: int = 10230,\n",
    "                           p_base: int = 1, shift: str = \"right\",\n",
    "                           alphabet: str = \"01\") -> np.ndarray:\n",
    "    \"\"\"\n",
    "    L1C pilot via Weil code constructed from Jacobi/Legendre symbols L(n) in {+1,0,-1}.\n",
    "    w: Weil index (integer)\n",
    "    p: insertion point (1-based by default)\n",
    "    k: prime modulus (10223)\n",
    "    N0: output chips (10230)\n",
    "    shift: 'right' means use L(n+w); 'left' uses L(n-w)\n",
    "    alphabet: '01' or 'pm1'\n",
    "    \"\"\"\n",
    "    # Build L(n) for n=0..k-1 with L(0)=0\n",
    "    idx = np.arange(k, dtype=np.int64)\n",
    "    vjac = np.vectorize(lambda n: jacobi(int(n), k), otypes=[int])\n",
    "    L = vjac(idx).astype(np.int8)  # values in {-1,0,+1}; L[0]==0\n",
    "\n",
    "    # Shifted L\n",
    "    w_mod = int(w) % k\n",
    "    Ls = np.roll(L, w_mod if shift == \"right\" else -w_mod)\n",
    "\n",
    "    # Weil bits: w(n) = (1 - L(n)*L(n+w)) / 2 in {0,1}\n",
    "    prod = (L.astype(np.int16) * Ls.astype(np.int16))  # {-1,0,+1}\n",
    "    weil01 = ((1 - prod) // 2).astype(np.uint8)        # map: +1→0, 0→1, -1→1\n",
    "\n",
    "    # Extract N0 chips starting at p (1-based default), with wrap\n",
    "    start = (int(p) - p_base) % k\n",
    "    if N0 <= k - start:\n",
    "        out01 = weil01[start:start + N0].copy()\n",
    "    else:\n",
    "        tail = k - start\n",
    "        out01 = np.concatenate((weil01[start:], weil01[:N0 - tail]))\n",
    "\n",
    "    if alphabet == \"01\":\n",
    "        return out01\n",
    "    elif alphabet == \"pm1\":\n",
    "        return (out01 * 2 - 1).astype(np.int8)\n",
    "    else:\n",
    "        raise ValueError(\"alphabet must be '01' or 'pm1'\")\n"
   ]
  },
  {
   "cell_type": "code",
   "execution_count": 57,
   "id": "13a7fad2-8615-4ce4-a751-92c906c620eb",
   "metadata": {},
   "outputs": [],
   "source": [
    "chips01 = l1c_pilot_from_symbols(w_pilot, p_pilot, k=10223, N0=10230, p_base=1, shift=\"right\", alphabet=\"01\")"
   ]
  },
  {
   "cell_type": "code",
   "execution_count": 58,
   "id": "2b11bfd5-20dd-4abf-9dac-ada91dfbec83",
   "metadata": {},
   "outputs": [
    {
     "name": "stdout",
     "output_type": "stream",
     "text": [
      "[1 0 1 0 0 0 0 0 0 1 1 0 1 0 1 1 0 0 0 0 1 1 0 0 0 0 0 0 0 1 0 0]\n"
     ]
    }
   ],
   "source": [
    "print(chips01[:32])"
   ]
  },
  {
   "cell_type": "code",
   "execution_count": 59,
   "id": "a1986a4a-4ca6-4552-943d-7740d41d01b2",
   "metadata": {},
   "outputs": [
    {
     "name": "stdout",
     "output_type": "stream",
     "text": [
      "50065414010365433711121652067557\n"
     ]
    }
   ],
   "source": [
    "def bits01_to_octal(bits01: np.ndarray) -> str:\n",
    "    n = (bits01.size // 3) * 3\n",
    "    b = bits01[:n].reshape(-1, 3)\n",
    "    vals = (b[:,0] << 2) | (b[:,1] << 1) | b[:,2]\n",
    "    return \"\".join(str(int(v)) for v in vals)\n",
    "\n",
    "print(bits01_to_octal(chips01)[:32])\n"
   ]
  },
  {
   "cell_type": "code",
   "execution_count": null,
   "id": "f21c0f75-f6ae-42d1-8b3f-d8eede478f9f",
   "metadata": {},
   "outputs": [],
   "source": []
  }
 ],
 "metadata": {
  "kernelspec": {
   "display_name": "Python 3 (ipykernel)",
   "language": "python",
   "name": "python3"
  },
  "language_info": {
   "codemirror_mode": {
    "name": "ipython",
    "version": 3
   },
   "file_extension": ".py",
   "mimetype": "text/x-python",
   "name": "python",
   "nbconvert_exporter": "python",
   "pygments_lexer": "ipython3",
   "version": "3.12.3"
  }
 },
 "nbformat": 4,
 "nbformat_minor": 5
}
