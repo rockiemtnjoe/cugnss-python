{
 "cells": [
  {
   "cell_type": "code",
   "execution_count": 97,
   "id": "86f7efb6-6f47-472c-9f3d-7b3ab97e106d",
   "metadata": {},
   "outputs": [],
   "source": [
    "import numpy as np\n",
    "from Include.generateL1c import weil_sequence, bits_to_octal\n",
    "import pandas as pd\n",
    "from init_settings import init_settings"
   ]
  },
  {
   "cell_type": "code",
   "execution_count": 98,
   "id": "8997e1d1-7a97-4d93-b30c-06d0d2b6f888",
   "metadata": {},
   "outputs": [],
   "source": [
    "df = pd.read_csv(\"L1Cp.csv\",\n",
    "                 dtype={\"PRN\": int,\n",
    "                        \"w_pilot\": int,\n",
    "                        \"p_pilot\": int,\n",
    "                        \"Initial_pilot_code\": str,\n",
    "                        \"Final_pilot_code\":str\n",
    "                       }\n",
    "                )\n",
    "L1c_table = df.set_index(\"PRN\", verify_integrity=True)\n"
   ]
  },
  {
   "cell_type": "code",
   "execution_count": 99,
   "id": "5fd9fd5a-9160-40d8-848a-2244e94c5755",
   "metadata": {},
   "outputs": [
    {
     "name": "stdout",
     "output_type": "stream",
     "text": [
      "PRN = 11, W=5093, P=253\n"
     ]
    }
   ],
   "source": [
    "PRN = 11\n",
    "W1 = L1c_table.at[PRN, \"w_pilot\"]\n",
    "P1 = L1c_table.at[PRN, \"p_pilot\"]\n",
    "print (f\"PRN = {PRN}, W={W1}, P={P1}\")"
   ]
  },
  {
   "cell_type": "code",
   "execution_count": 100,
   "id": "719fda14-56d0-4eed-b90c-65c29c9ab929",
   "metadata": {},
   "outputs": [
    {
     "name": "stdout",
     "output_type": "stream",
     "text": [
      "Verification String 047330766742\n"
     ]
    }
   ],
   "source": [
    "ws = weil_sequence(W1, P1)\n",
    "verification_string = bits_to_octal(ws)\n",
    "print (f\"Verification String {verification_string[0:12]}\")"
   ]
  },
  {
   "cell_type": "code",
   "execution_count": 101,
   "id": "f6899545-6f8c-4536-97e9-092c15fb1759",
   "metadata": {},
   "outputs": [
    {
     "name": "stdout",
     "output_type": "stream",
     "text": [
      "20460\n",
      "[-1  1 -1  1 -1  1  1 -1 -1  1]\n"
     ]
    }
   ],
   "source": [
    "weil_bpsk = 2*ws-1\n",
    "weil_complement = -1*weil_bpsk\n",
    "BOC11 = np.column_stack((weil_bpsk, weil_complement)).ravel()\n",
    "print (len(BOC11))\n",
    "print (BOC11[0:10])"
   ]
  },
  {
   "cell_type": "code",
   "execution_count": 159,
   "id": "57570cc1-215c-420e-9b62-d3a32b9574a4",
   "metadata": {},
   "outputs": [],
   "source": [
    "samplingFreq = 18E6\n",
    "codeFreqBasis = 1.023E6\n",
    "codeLength = len(ws)\n",
    "codePeriod = codeLength / codeFreqBasis\n",
    "tChip = 1 / codeFreqBasis\n",
    "tSample = 1 / samplingFreq\n",
    "sampleLength = tSample*codePeriod\n",
    "\n",
    "#samples_per_code = int(round(samplingFreq / (codeFreqBasis / (codeLength - 1))))\n",
    "#samples_per_code = samplingFreq / (codeFreqBasis / (codeLength - 1))\n",
    "samples_per_code = round(codePeriod * samplingFreq)\n",
    "samples_per_chip = samplingFreq / (2 * codeFreqBasis)   # Multiply by 2 because of BOC11; can be a float\n",
    "\n",
    "#index =  np.round((1/samples_per_chip) * np.arange(0, samples_per_code)).astype(int) \n",
    "#index_float = ((2 * codeLength - 1)/ (samples_per_code -1)) * np.arange(0, samples_per_code)\n",
    "index_float = (((2 * codeLength)/ (samples_per_code - 1)) * np.arange(0, samples_per_code) - 0.5)\n",
    "index = (np.round(index_float)).astype(int)\n",
    "index[-1] = codeLength-1   # just in case the round function rolled the last value out of bounds\n",
    "\n",
    "\n",
    "\n",
    "#L1c_samples = BOC11[index]\n",
    "#print (f\"{L1c_samples[:20]}\")"
   ]
  },
  {
   "cell_type": "code",
   "execution_count": 163,
   "id": "74d7e26a-1b68-424c-ae59-9ae5e5858f39",
   "metadata": {},
   "outputs": [
    {
     "name": "stdout",
     "output_type": "stream",
     "text": [
      "Code Length: 10230\n",
      "Code Period: 0.0100\n",
      "samples per code: 180000\n",
      "start of index_float: [-0.5        -0.3863327  -0.2726654  -0.15899811 -0.04533081  0.06833649\n",
      "  0.18200379  0.29567109  0.40933839  0.52300568]\n",
      "end of index_float: [20458.47699432 20458.59066161 20458.70432891 20458.81799621\n",
      " 20458.93166351 20459.04533081 20459.15899811 20459.2726654\n",
      " 20459.3863327  20459.5       ]\n",
      "start of index: [0 0 0 0 0 0 0 0 0 0 0 0 0 0 0 0 0 1 1 1]\n",
      "end of index: [10228 10228 10228 10229 10229 10229 10229 10229 10229 10229 10229 10229\n",
      " 10229 10229 10229 10229 10229 10229 10229 10229]\n",
      "BOC11: [-1  1 -1  1 -1  1  1 -1 -1  1]\n",
      "first = 17, last = 17, one = 18\n"
     ]
    }
   ],
   "source": [
    "print (f'Code Length: {codeLength}')\n",
    "print (f'Code Period: {codePeriod:.4f}')\n",
    "print (f'samples per code: {samples_per_code}')\n",
    "print (f'start of index_float: {index_float[:10]}')\n",
    "print (f'end of index_float: {index_float[-10:]}')\n",
    "print (f'start of index: {code_value_index[0:20]}')\n",
    "print (f'end of index: {code_value_index[-20:]}')\n",
    "print (f'BOC11: {BOC11[:10]}')\n",
    "\n",
    "first = np.sum(code_value_index==0)\n",
    "last = np.sum(code_value_index==10229)\n",
    "one = np.sum(code_value_index==1)\n",
    "\n",
    "print (f'first = {first}, last = {last}, one = {one}')\n"
   ]
  },
  {
   "cell_type": "code",
   "execution_count": 162,
   "id": "01377a78-1c72-495b-8278-3486e9b806a8",
   "metadata": {},
   "outputs": [],
   "source": [
    "def L1c_FS (prn: int, settings) -> np.ndarray:\n",
    "    \"\"\"\n",
    "    Function receives:\n",
    "        a prn number corresponding to an SV\n",
    "        a set of settings for the data file & processing\n",
    "    Returns:\n",
    "        a numpy array with the L1 pilot signal (including BOC(1,1)\n",
    "        at the sample rate of the data.  \n",
    "        The L1c pilot signal will be 10mS long\n",
    "    \"\"\"\n",
    "    df = pd.read_csv(\"L1Cp.csv\",\n",
    "                 dtype={\"PRN\": int,\n",
    "                        \"w_pilot\": int,\n",
    "                        \"p_pilot\": int,\n",
    "                        \"Initial_pilot_code\": str,\n",
    "                        \"Final_pilot_code\":str\n",
    "                       }\n",
    "                )\n",
    "    L1c_table = df.set_index(\"PRN\", verify_integrity=True)\n",
    "    W1 = L1c_table.at[PRN, \"w_pilot\"]\n",
    "    P1 = L1c_table.at[PRN, \"p_pilot\"]\n",
    "    print (f'W1 = {W1}, P1={P1}')\n",
    "    weil_code = weil_sequence(W1, P1)\n",
    "    weil_bpsk = 2*ws-1               #re-map the weil code from binary to {+1, -1}\n",
    "    weil_complement = -1*weil_bpsk   #invert the bpsk version\n",
    "    weil_combined = np.column_stack((weil_bpsk, weil_complement))\n",
    "    BOC11 = weil_combined.ravel()\n",
    "    #\n",
    "    #  Figure out the stretch factors to re-map the BOC11 to make it 10mS long\n",
    "    #  At the sampling rate of the captured signal\n",
    "    #\n",
    "    codeLength = len(weil_code)\n",
    "    codePeriod = 0.01   # Period of the L1c code in seconds\n",
    "    samplingFreq = settings.samplingFreq\n",
    "    samples_per_code = round((codePeriod * samplingFreq))\n",
    "    #\n",
    "    #\n",
    "    index_float = ((2 * codeLength - 1)/ (samples_per_code - 1)) * np.arange(0, samples_per_code)\n",
    "    index = (np.round(index_float)).astype(int)\n",
    "    L1c_samples = BOC11[index]\n",
    "    return (L1c_samples)\n",
    "\n",
    "    \n",
    "    "
   ]
  },
  {
   "cell_type": "code",
   "execution_count": 124,
   "id": "7eb24113-8f4c-45c1-ac0f-890ba692a08b",
   "metadata": {},
   "outputs": [],
   "source": [
    "my_settings = init_settings()"
   ]
  },
  {
   "cell_type": "code",
   "execution_count": 125,
   "id": "b6288950-fd74-4c98-a17e-5d8a93bdd4b2",
   "metadata": {},
   "outputs": [
    {
     "name": "stdout",
     "output_type": "stream",
     "text": [
      "W1 = 5093, P1=253\n",
      "20460\n",
      "(180000,)\n",
      "[-1 -1 -1 -1 -1  1  1  1  1  1  1  1  1  1 -1 -1 -1 -1 -1 -1 -1 -1  1  1\n",
      "  1]\n"
     ]
    }
   ],
   "source": [
    "L1c_pilot_signal = L1c_FS(1,my_settings)\n",
    "print (L1c_pilot_signal.shape)\n",
    "print (L1c_pilot_signal[:25])"
   ]
  },
  {
   "cell_type": "code",
   "execution_count": 128,
   "id": "1b7c9f74-1bcd-4334-abe7-141d4bcba0a2",
   "metadata": {},
   "outputs": [
    {
     "name": "stdout",
     "output_type": "stream",
     "text": [
      "[1, 14, 21, 23]\n"
     ]
    }
   ],
   "source": [
    "my_settings.acqSatelliteList = [1, 14, 21, 23]\n",
    "print (my_settings.acqSatelliteList)"
   ]
  },
  {
   "cell_type": "code",
   "execution_count": 137,
   "id": "8f4516a8-c70e-4892-8727-3bc5c1820c1c",
   "metadata": {},
   "outputs": [
    {
     "name": "stdout",
     "output_type": "stream",
     "text": [
      "{'PRN': array([  1.,   0.,   0.,   0.,   0.,   6.,   7.,   0.,   0.,   0.,   0.,\n",
      "         0.,  13.,  14.,   0.,   0.,  17.,   0.,  19.,   0.,  21.,   0.,\n",
      "         0.,  24.,   0.,   0.,   0.,  28.,   0.,  30.,   0.,  87.,  88.,\n",
      "         0.,   0.,   0.,   0.,  93.,  94.,   0.,   0.,   0.,   0.,   0.,\n",
      "       100., 101.,   0.,   0., 104.,   0.,   0.]), 'carrFreq': array([17450.,     0.,     0.,     0.,     0., 23325., 15900.,     0.,\n",
      "           0.,     0.,     0.,     0., 17000., 18475.,     0.,     0.,\n",
      "       19000.,     0., 21000.,     0., 16500.,     0.,     0., 22400.,\n",
      "           0.,     0.,     0., 19800.,     0., 16375.,     0., 19750.,\n",
      "       17450.,     0.,     0.,     0.,     0., 23325., 15900.,     0.,\n",
      "           0.,     0.,     0.,     0., 17000., 18475.,     0.,     0.,\n",
      "       19000.,     0.,     0.]), 'codePhase': array([  275,     0,     0,     0,     0, 11389, 15293,     0,     0,\n",
      "           0,     0,     0, 16477,  5954,     0,     0,   178,     0,\n",
      "        1786,     0,  2468,     0,     0,  6727,     0,     0,     0,\n",
      "        2617,     0, 11661,     0, 16669,   275,     0,     0,     0,\n",
      "           0, 11389, 15293,     0,     0,     0,     0,     0, 16477,\n",
      "        5954,     0,     0,   178,     0,     0]), 'peakMetric': array([ 8.66232439,  3.06550619,  3.87401879,  2.4960593 ,  2.49862442,\n",
      "        8.49249475,  5.13110372,  2.630862  ,  2.6065697 ,  2.4985191 ,\n",
      "        2.55848994,  2.50985203,  6.94120311, 12.6008706 ,  4.69771899,\n",
      "        2.6557313 , 14.04281905,  2.60600016, 12.86664206,  2.4853888 ,\n",
      "        5.51757523,  3.8444528 ,  2.66102875,  5.82517369,  2.50203925,\n",
      "        2.60903416,  2.667037  , 11.29020675,  2.56069126,  9.3130051 ,\n",
      "        2.6473136 , 11.80597525,  8.66232439,  3.06550619,  3.87401879,\n",
      "        2.4960593 ,  2.49862442,  8.49249475,  5.13110372,  2.630862  ,\n",
      "        2.6065697 ,  2.4985191 ,  2.55848994,  2.50985203,  6.94120311,\n",
      "       12.6008706 ,  4.69771899,  2.6557313 , 14.04281905,  2.60600016,\n",
      "        0.        ])}\n"
     ]
    }
   ],
   "source": [
    "y = np.load(\"acqResults.npy\", allow_pickle=True).item()\n",
    "print (y)"
   ]
  },
  {
   "cell_type": "code",
   "execution_count": 140,
   "id": "636ee5c6-df78-4be3-a98a-d9b10b727a6c",
   "metadata": {},
   "outputs": [
    {
     "name": "stdout",
     "output_type": "stream",
     "text": [
      "dict_keys(['PRN', 'carrFreq', 'codePhase', 'peakMetric'])\n",
      "[  1.   0.   0.   0.   0.   6.   7.   0.   0.   0.   0.   0.  13.  14.\n",
      "   0.   0.  17.   0.  19.   0.  21.   0.   0.  24.   0.   0.   0.  28.\n",
      "   0.  30.   0.  87.  88.   0.   0.   0.   0.  93.  94.   0.   0.   0.\n",
      "   0.   0. 100. 101.   0.   0. 104.   0.   0.]\n"
     ]
    }
   ],
   "source": [
    "print (y.keys())\n",
    "print (y['PRN'])\n",
    "#print (x)"
   ]
  },
  {
   "cell_type": "code",
   "execution_count": 134,
   "id": "e9216316-59d7-41bb-9c06-45bee669a236",
   "metadata": {},
   "outputs": [
    {
     "ename": "AttributeError",
     "evalue": "'numpy.ndarray' object has no attribute 'keys'",
     "output_type": "error",
     "traceback": [
      "\u001b[31m---------------------------------------------------------------------------\u001b[39m",
      "\u001b[31mAttributeError\u001b[39m                            Traceback (most recent call last)",
      "\u001b[36mCell\u001b[39m\u001b[36m \u001b[39m\u001b[32mIn[134]\u001b[39m\u001b[32m, line 1\u001b[39m\n\u001b[32m----> \u001b[39m\u001b[32m1\u001b[39m \u001b[38;5;28mprint\u001b[39m (\u001b[43my\u001b[49m\u001b[43m.\u001b[49m\u001b[43mkeys\u001b[49m())\n",
      "\u001b[31mAttributeError\u001b[39m: 'numpy.ndarray' object has no attribute 'keys'"
     ]
    }
   ],
   "source": [
    "print (y.keys())"
   ]
  },
  {
   "cell_type": "code",
   "execution_count": 143,
   "id": "163d4cc1-8e2c-4690-a064-f9b62d8e86bd",
   "metadata": {},
   "outputs": [
    {
     "name": "stdout",
     "output_type": "stream",
     "text": [
      "[ 1 14 21 28]\n"
     ]
    }
   ],
   "source": [
    "block_iii = [1, 4, 11, 14, 18, 21, 23, 28]\n",
    "detected_sv = y['PRN']\n",
    "detected_block_iii = (detected_sv[np.isin(detected_sv, block_iii)]).astype(int)\n",
    "print (detected_block_iii)"
   ]
  },
  {
   "cell_type": "code",
   "execution_count": 145,
   "id": "d951c4cd-2e20-4529-9ca9-61039da0cff7",
   "metadata": {},
   "outputs": [
    {
     "name": "stdout",
     "output_type": "stream",
     "text": [
      "1\n",
      "14\n",
      "21\n",
      "28\n"
     ]
    }
   ],
   "source": [
    "for prn in detected_block_iii:\n",
    "    print (i)\n",
    "    x = \n",
    "    "
   ]
  },
  {
   "cell_type": "code",
   "execution_count": null,
   "id": "bf05be8f-644d-480a-bce1-cdf47eb88e17",
   "metadata": {},
   "outputs": [],
   "source": []
  }
 ],
 "metadata": {
  "kernelspec": {
   "display_name": "Python 3 (ipykernel)",
   "language": "python",
   "name": "python3"
  },
  "language_info": {
   "codemirror_mode": {
    "name": "ipython",
    "version": 3
   },
   "file_extension": ".py",
   "mimetype": "text/x-python",
   "name": "python",
   "nbconvert_exporter": "python",
   "pygments_lexer": "ipython3",
   "version": "3.12.3"
  }
 },
 "nbformat": 4,
 "nbformat_minor": 5
}
