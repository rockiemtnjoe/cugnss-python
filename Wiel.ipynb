{
 "cells": [
  {
   "cell_type": "markdown",
   "id": "73bcc897-41e0-461e-bad9-95814d1e260c",
   "metadata": {},
   "source": [
    "#Jupyter file to prototype generating Weil codes"
   ]
  },
  {
   "cell_type": "code",
   "execution_count": 5,
   "id": "7dd54a78-9654-4d3a-90d1-997b2930bcac",
   "metadata": {},
   "outputs": [],
   "source": [
    "import numpy as np\n",
    "import pandas as pd"
   ]
  },
  {
   "cell_type": "code",
   "execution_count": 6,
   "id": "8078bf56-27ff-423d-98a9-8e371c13f64b",
   "metadata": {},
   "outputs": [],
   "source": [
    "df = pd.read_csv(\"L1Cp.csv\",\n",
    "                 dtype={\"PRN\": int,\n",
    "                        \"w_pilot\": int,\n",
    "                        \"p_pilot\": int,\n",
    "                        \"Initial_pilot_code\": str,\n",
    "                        \"Final_pilot_code\":str\n",
    "                       }\n",
    "                )"
   ]
  },
  {
   "cell_type": "code",
   "execution_count": 7,
   "id": "34418c54-15a9-4e60-8232-c34a98c88412",
   "metadata": {},
   "outputs": [
    {
     "name": "stdout",
     "output_type": "stream",
     "text": [
      "5093\n",
      "04733076\n"
     ]
    }
   ],
   "source": [
    "prn_value = 11\n",
    "result = df.loc[df[\"PRN\"] == prn_value, \"w_pilot\"].iloc[0]\n",
    "start_string = df.loc[df[\"PRN\"] == prn_value, \"Initial_pilot_code\"].iloc[0]\n",
    "print (result)\n",
    "print (start_string)"
   ]
  },
  {
   "cell_type": "code",
   "execution_count": 8,
   "id": "efd40751-d8c2-4c2f-8c94-7bed5b04669d",
   "metadata": {},
   "outputs": [
    {
     "name": "stdout",
     "output_type": "stream",
     "text": [
      "PRN                    int64\n",
      "w_pilot                int64\n",
      "p_pilot                int64\n",
      "Initial_pilot_code    object\n",
      "Final_pilot_code      object\n",
      "dtype: object\n",
      "   PRN  w_pilot  p_pilot Initial_pilot_code Final_pilot_code\n",
      "0    1     5111      412           05752067         20173742\n",
      "1    4     5106      303           72125121         71435437\n",
      "2   11     5093      253           04733076         15210113\n",
      "3   14     5081       66           07476042         46623624\n",
      "4   18     5054     5211           73202225         14040513\n"
     ]
    }
   ],
   "source": [
    "print (df.dtypes)\n",
    "print (df.head())\n",
    "l1c_table = df.set_index(\"PRN\", verify_integrity=True)"
   ]
  },
  {
   "cell_type": "code",
   "execution_count": 9,
   "id": "801e4a5f-c6bc-46f0-b6bb-a117d8e23ec2",
   "metadata": {},
   "outputs": [
    {
     "name": "stdout",
     "output_type": "stream",
     "text": [
      "5093 253\n"
     ]
    }
   ],
   "source": [
    "w = l1c_table.at[int(11), \"w_pilot\"]\n",
    "p = l1c_table.at[int(11), \"p_pilot\"]\n",
    "print (w,p)"
   ]
  },
  {
   "cell_type": "code",
   "execution_count": 10,
   "id": "0d383a7e-a57b-4014-892a-ae7d2192551b",
   "metadata": {},
   "outputs": [],
   "source": [
    "def jacobi(n: int, k: int) -> int:\n",
    "    \"\"\"\n",
    "    Computes the Jacobi symbol (n/k) for odd k > 0.\n",
    "    Returns -1, 0, or +1.\n",
    "    \"\"\"\n",
    "    assert k > 0 and k % 2 == 1\n",
    "    n = n % k\n",
    "    t = 1\n",
    "    while n != 0:\n",
    "        # factor out powers of 2 from n\n",
    "        while n % 2 == 0:\n",
    "            n //= 2\n",
    "            r = k % 8\n",
    "            if r == 3 or r == 5:\n",
    "                t = -t\n",
    "        # quadratic reciprocity step\n",
    "        n, k = k, n\n",
    "        if (n % 4 == 3) and (k % 4 == 3):\n",
    "            t = -t\n",
    "        n = n % k\n",
    "    return t if k == 1 else 0"
   ]
  },
  {
   "cell_type": "code",
   "execution_count": 11,
   "id": "758664d9-70f0-4a90-b151-5d264bbe7812",
   "metadata": {},
   "outputs": [
    {
     "name": "stdout",
     "output_type": "stream",
     "text": [
      "0 0\n",
      "1 1\n",
      "2 1\n",
      "3 -1\n",
      "4 1\n",
      "5 -1\n",
      "6 -1\n",
      "0 0\n",
      "1 1\n",
      "2 -1\n",
      "3 1\n",
      "4 1\n",
      "5 1\n",
      "6 -1\n",
      "7 -1\n",
      "8 -1\n",
      "9 1\n",
      "10 -1\n"
     ]
    }
   ],
   "source": [
    "for a in range(7):\n",
    "    print(a, jacobi(a, 7))\n",
    "# expected: 0,+1,+1,−1,+1,−1,−1\n",
    "for a in range(11):\n",
    "    print(a, jacobi(a, 11))\n",
    "# check against known residues: {0,1,3,4,5,9}\n"
   ]
  },
  {
   "cell_type": "code",
   "execution_count": 12,
   "id": "b05344a7-12db-4e60-9ddd-5d2cac1ce04a",
   "metadata": {},
   "outputs": [],
   "source": [
    "def jacobi_sequence(k: int, start: int = 1, length: int | None = None, map_zero_to: int = +1) -> np.ndarray:\n",
    "    \"\"\"\n",
    "    Build a Jacobi-based ±1 sequence over modulus k (odd).\n",
    "      - start: first n to evaluate (typical: 1)\n",
    "      - For GPS, we need start = 0\n",
    "      - length: number of terms; default = k - start (so 1..k-1 if start=1)\n",
    "      - map_zero_to: map any 0 results to ±1 to keep a binary alphabet\n",
    "    \"\"\"\n",
    "    assert k > 0 and k % 2 == 1\n",
    "    if length is None:\n",
    "        length = k - start\n",
    "    ns = np.arange(start, start + length, dtype=np.int64)\n",
    "\n",
    "    # Vectorize the scalar jacobi() while keeping identical semantics.\n",
    "    vjac = np.vectorize(lambda n: jacobi(int(n), k), otypes=[int])\n",
    "    vals = vjac(ns).astype(np.int8)\n",
    "\n",
    "    if map_zero_to not in (-1, 0, +1):\n",
    "        raise ValueError(\"map_zero_to must be one of 0, +1, -1\")\n",
    "    vals[vals == 0] = map_zero_to\n",
    "\n",
    "    # vals is in {-1, +1}. If you need {0,1}, use: (vals > 0).astype(np.uint8)\n",
    "    return vals"
   ]
  },
  {
   "cell_type": "code",
   "execution_count": 13,
   "id": "9a825ccc-1109-430c-ace8-cb5c3e8e45dd",
   "metadata": {},
   "outputs": [
    {
     "name": "stdout",
     "output_type": "stream",
     "text": [
      "[ 0  1 -1  1  1  1 -1 -1 -1  1 -1] … len = 11\n"
     ]
    }
   ],
   "source": [
    "#k = 101  # must be odd\n",
    "k = 11\n",
    "chips_pm1 = jacobi_sequence(k, start=0, map_zero_to=0)              # ±1 chips\n",
    "#chips_01  = (chips_pm1 > 0).astype(np.uint8)  # 0/1 chips if needed\n",
    "print(chips_pm1, \"… len =\", chips_pm1.size)"
   ]
  },
  {
   "cell_type": "code",
   "execution_count": 14,
   "id": "a4ba15fb-022e-41ba-b374-0fb7bd6c5cc2",
   "metadata": {},
   "outputs": [
    {
     "name": "stdout",
     "output_type": "stream",
     "text": [
      "[ 0  1 -1  1  1  1 -1 -1 -1  1 -1] ... len = 11\n"
     ]
    }
   ],
   "source": [
    "print (chips_pm1[:32], \"... len =\", chips_pm1.size)"
   ]
  },
  {
   "cell_type": "code",
   "execution_count": 15,
   "id": "c980b2b8-028a-4431-bb84-ee168aafa1c1",
   "metadata": {},
   "outputs": [],
   "source": [
    "def l1c_pilot_weil(w: int, p: int, *, k: int, N0: int, alphabet: str = \"pm1\") -> np.ndarray:\n",
    "    \"\"\"\n",
    "    Generate an L1C Pilot spreading sequence via Weil/Jacobi construction.\n",
    "\n",
    "    Parameters\n",
    "    ----------\n",
    "    w : int\n",
    "        Weil index for the PRN.\n",
    "    p : int\n",
    "        Insertion point (1-based).\n",
    "    k : int\n",
    "        Odd modulus from the ICD table (e.g. 10223).\n",
    "    N0 : int\n",
    "        Number of chips (pilot sequence length).\n",
    "    alphabet : {\"pm1\", \"01\"}\n",
    "        Output alphabet: ±1 (pm1) or {0,1}.\n",
    "\n",
    "    Returns\n",
    "    -------\n",
    "    chips : np.ndarray\n",
    "        1D array of length N0 in the requested alphabet.\n",
    "    \"\"\"\n",
    "\n",
    "    # quadratic residue indicator\n",
    "    idx = np.arange(k, dtype=np.int64)\n",
    "    vjac = np.vectorize(lambda n: jacobi(int(n), k, start=0, map_zero_to=0))\n",
    "    resid01 = (vjac(idx) == 1).astype(np.uint8)\n",
    "\n",
    "    # Weil code: XOR with shifted copy\n",
    "    resid01_shift = np.roll(resid01, w % k)\n",
    "    weil01 = resid01 ^ resid01_shift\n",
    "\n",
    "    # Extract N0 chips starting at insertion point p (1-based)\n",
    "    start = (p - 1) % k\n",
    "    if N0 <= k - start:\n",
    "        out01 = weil01[start:start + N0].copy()\n",
    "    else:\n",
    "        out01 = np.concatenate((weil01[start:], weil01[:N0 - (k - start)]))\n",
    "\n",
    "    if alphabet == \"01\":\n",
    "        return out01\n",
    "    elif alphabet == \"pm1\":\n",
    "        return (out01 * 2 - 1).astype(np.int8)\n",
    "    else:\n",
    "        raise ValueError(\"alphabet must be 'pm1' or '01'\")\n"
   ]
  },
  {
   "cell_type": "code",
   "execution_count": 16,
   "id": "c0d6ff81-d443-42e2-8c99-0ed2b0517a08",
   "metadata": {},
   "outputs": [],
   "source": [
    "\n",
    "\n",
    "# Scalar jacobi(n,k) — your tested version goes here\n",
    "\n",
    "def jacobi_full_sequence(k: int) -> np.ndarray:\n",
    "    \"\"\"L(n) for n=0..k-1 in {-1,0,+1}. Use this for GPS L1C construction.\"\"\"\n",
    "    return np.array([jacobi(n, k) for n in range(k)], dtype=np.int8)\n",
    "\n",
    "def l1c_pilot_from_symbols(W: int, P: int, *,\n",
    "                           k: int = 10223, N0: int = 10230,\n",
    "                           p_base: int = 1, shift: str = \"right\",\n",
    "                           out: str = \"01\",\n",
    "                           L: np.ndarray | None = None) -> np.ndarray:\n",
    "    \"\"\"\n",
    "    Build L1C pilot using L(n) in {-1,0,+1}:\n",
    "      w(n) = (1 - L(n)*L(n+W)) / 2  in {0,1}\n",
    "    - p_base=1 because ICD tables list P as 1-based.\n",
    "    - shift='right' means L(n+W); use 'left' for L(n-W).\n",
    "    - out='01' or 'pm1'.\n",
    "    - Optionally pass a precomputed L to avoid recomputing per PRN.\n",
    "    \"\"\"\n",
    "    if L is None:\n",
    "        L = jacobi_full_sequence(k)  # includes n=0 term == 0\n",
    "    Wm = W % k\n",
    "    Ls = np.roll(L, Wm if shift == \"right\" else -Wm)\n",
    "\n",
    "    # Weil bits from symbol product (keep zeros intact here)\n",
    "    prod = (L.astype(np.int16) * Ls.astype(np.int16))      # {-1,0,+1}\n",
    "    weil01 = ((1 - prod) // 2).astype(np.uint8)            # +1->0, 0/-1->1\n",
    "\n",
    "    # Extract N0 chips starting at insertion point P (1-based default)\n",
    "    start = (P - p_base) % k\n",
    "    if N0 <= k - start:\n",
    "        out01 = weil01[start:start + N0].copy()\n",
    "    else:\n",
    "        tail = k - start\n",
    "        out01 = np.concatenate((weil01[start:], weil01[:N0 - tail]))\n",
    "\n",
    "    if out == \"01\":\n",
    "        return out01\n",
    "    elif out == \"pm1\":\n",
    "        return (out01 * 2 - 1).astype(np.int8)\n",
    "    else:\n",
    "        raise ValueError(\"out must be '01' or 'pm1'\")\n"
   ]
  },
  {
   "cell_type": "code",
   "execution_count": 17,
   "id": "b4eb9a78-9a0d-48a9-8bdf-5b1f9e4373c1",
   "metadata": {},
   "outputs": [
    {
     "name": "stdout",
     "output_type": "stream",
     "text": [
      "[ 0  1 -1  1  1  1 -1 -1 -1  1 -1]\n"
     ]
    }
   ],
   "source": [
    "print (jacobi_full_sequence(11))"
   ]
  },
  {
   "cell_type": "code",
   "execution_count": 121,
   "id": "7629f7ca-95ab-414d-a45f-51eb1b31fa94",
   "metadata": {},
   "outputs": [],
   "source": [
    "import numpy as np\n",
    "\n",
    "def jacobi(n: int, k: int) -> int:\n",
    "    \"\"\"\n",
    "    Computes the Jacobi symbol (n/k) for odd k > 0.\n",
    "    Returns -1, 0, or +1.\n",
    "    \"\"\"\n",
    "    assert k > 0 and k % 2 == 1\n",
    "    n = n % k\n",
    "    t = 1\n",
    "    while n != 0:\n",
    "        # factor out powers of 2 from n\n",
    "        while n % 2 == 0:\n",
    "            n //= 2\n",
    "            r = k % 8\n",
    "            if r == 3 or r == 5:\n",
    "                t = -t\n",
    "        # quadratic reciprocity step\n",
    "        n, k = k, n\n",
    "        if (n % 4 == 3) and (k % 4 == 3):\n",
    "            t = -t\n",
    "        n = n % k\n",
    "    return t if k == 1 else 0\n",
    "#\n",
    "#\n",
    "#\n",
    "\n",
    "def jacobi_full_sequence(k: int) -> np.ndarray:\n",
    "    \"\"\"\n",
    "    Compute the Jacobi sequence L(n) for n = 0..k-1.\n",
    "    Values returned are in {-1, 0, +1}.\n",
    "\n",
    "    Jacobi is a more general version of the Legendre sequence.\n",
    "    Legendre sequence results when Jacobi called with a prime number.\n",
    "\n",
    "    Parameters\n",
    "    ----------\n",
    "    k : int\n",
    "        Odd modulus. For GPS L1C, k = 10223.\n",
    "\n",
    "    Returns\n",
    "    -------\n",
    "    L : np.ndarray\n",
    "        Array of shape (k,), with entries in {-1,0,+1}.\n",
    "    \"\"\"\n",
    "    values = []\n",
    "    for n in range(k):\n",
    "        values.append(jacobi(n, k))  # uses your scalar jacobi() function\n",
    "    return np.array(values, dtype=np.int8)\n",
    "#\n",
    "#\n",
    "#\n",
    "\n",
    "'''\n",
    "Commented out for now\n",
    "\n",
    "def weil_sequence(W: int, P:int) -> np.ndarray:\n",
    "    k = 10223\n",
    "    L = jacobi_full_sequence (k)\n",
    "    L_shift = np.roll (L, -1*W)\n",
    "    w = (1 - (L * L_shift)) / 2\n",
    "    expansion = np.array([-1, 1, 1, -1, 1, -1, -1])\n",
    "    break_index = P-1\n",
    "    if not (0 <= break_index < k) or not (0 < break_index <= k):\n",
    "        raise ValueError(\"P out of range for 7-chip replacement.\")\n",
    "    weil = np.concatenate((w[:break_index], expansion, w[break_index:]))\n",
    "    binary_result = (weil > 0).astype(int)\n",
    "    return (binary_result)\n",
    "'''\n",
    "\n",
    "def bits_to_octal(bits01: np.ndarray, msb_first: bool = True, reverse_bits_in_group: bool = False) -> str:\n",
    "    \"\"\"Pack 0/1 bits to octal string, 3 bits per digit.\"\"\"\n",
    "    # truncate to multiple of 3 for clean comparison\n",
    "    n = (bits01.size // 3) * 3\n",
    "    b = bits01[:n].reshape(-1, 3)\n",
    "    if reverse_bits_in_group:\n",
    "        b = b[:, ::-1]\n",
    "    if msb_first:\n",
    "        vals = (b[:,0] << 2) | (b[:,1] << 1) | b[:,2]\n",
    "    else:\n",
    "        # if someone meant LSB-first groups\n",
    "        vals = b[:,0] | (b[:,1] << 1) | (b[:,2] << 2)\n",
    "    return \"\".join(str(int(v)) for v in vals)\n",
    "\n"
   ]
  },
  {
   "cell_type": "code",
   "execution_count": 127,
   "id": "e075564a-50d9-4ce0-910f-3466f18c44c1",
   "metadata": {},
   "outputs": [],
   "source": [
    "def weil_sequence(W_index: int, P:int) -> np.ndarray:\n",
    "    k = 10223\n",
    "    L_pm1 = jacobi_full_sequence(k).astype(np.int8)   #Legendre sequence returns {-1, 0, +1}\n",
    "    L_bin = (L_pm1 == 1).astype(np.uint8)             #binary Legendre sequence: map {-1, 0} to 0, +1 to 1\n",
    "    W1 = W_index % k                                   #handle the edge cases\n",
    "    L_shift = np.roll (L_bin, -1*W)\n",
    "    w = L_bin ^ L_shift\n",
    "    expansion = np.array([-1, 1, 1, -1, 1, -1, -1])\n",
    "    break_index = P-1\n",
    "    if not (0 <= break_index < k) or not (0 < break_index <= k):\n",
    "        raise ValueError(\"P out of range for 7-chip replacement.\")\n",
    "    weil = np.concatenate((w[:break_index], expansion, w[break_index:]))\n",
    "    return (weil)"
   ]
  },
  {
   "cell_type": "code",
   "execution_count": 128,
   "id": "4630ec8e-1f05-47bb-b957-b3ce6559cce9",
   "metadata": {},
   "outputs": [
    {
     "name": "stdout",
     "output_type": "stream",
     "text": [
      "First vector:  [ 0  1  1  1  1 -1  1  1  1  1 -1 -1  1 -1  1 -1  1 -1  1 -1 -1  1 -1  1]\n",
      "Second vector: [-1  1  1 -1  1  1 -1 -1 -1 -1 -1  1  1  1  1 -1  1 -1 -1  1 -1 -1  1 -1]\n",
      "Shift Loop:    [-1  1  1 -1  1  1 -1 -1 -1 -1 -1  1  1  1  1 -1  1 -1 -1  1 -1 -1  1 -1]\n",
      "Result:        [ 0  1  1 -1  1 -1 -1 -1 -1 -1  1 -1  1 -1  1  1  1  1 -1 -1  1 -1 -1 -1]\n",
      "Leg_binary: [0 1 1 1 1 0 1 1 1 1 0 0 1 0 1 0 1 0 1 0 0 1 0 1]\n",
      "Binary Result: [0 1 1 0 1 0 0 0 0 0 1 0]\n",
      "Octal: 320257103772\n",
      "Weil Sequence: [0 0 0 1 0 1 1 1 1 1 0 1 0 1 0 0 0 0 1 1 0 1 1 1 1 0 0 0 0 0 0 0]\n",
      "Length of sequence: 10230\n",
      "Weil Sequence: 057520674005110335241407\n"
     ]
    }
   ],
   "source": [
    "W1 = 5111\n",
    "P1 = 412\n",
    "k = 10223\n",
    "\n",
    "L10223 = jacobi_full_sequence(10223)\n",
    "Ls2 = np.zeros(10223).astype(int)\n",
    "for t in np.arange(0,k-1):\n",
    "    shift_index = ((t+W1) % k).astype(int)\n",
    "    Ls2[t] = L10223[shift_index].astype(int)\n",
    "    \n",
    "    \n",
    "L_shift = np.roll(L10223, -1*W1)\n",
    "result = (L10223 * L_shift).astype(int)\n",
    "\n",
    "print (f'First vector:  {L10223[:24]}')\n",
    "print (f'Second vector: {L_shift[:24]}')\n",
    "print (f'Shift Loop:    {Ls2[:24]}')\n",
    "print (f'Result:        {result[:24]}')\n",
    "\n",
    "Leg_binary = (L10223 > 0).astype(int)\n",
    "print (f'Leg_binary: {Leg_binary[:24]}')\n",
    "\n",
    "result = (result > 0).astype(int)\n",
    "print (f'Binary Result: {result[:12]}')\n",
    "\n",
    "octal_string = bits01_to_octal(result)\n",
    "print (f'Octal: {octal_string[:12]}')\n",
    "\n",
    "\n",
    "weil = weil_sequence(W1, P1)\n",
    "print (f'Weil Sequence: {weil [:32]}')\n",
    "print (f'Length of sequence: {len(weil)}')\n",
    "weil_octal = bits01_to_octal(weil)\n",
    "print (f'Weil Sequence: {weil_octal[0:24]}')"
   ]
  },
  {
   "cell_type": "code",
   "execution_count": 120,
   "id": "7af0f638-8fb8-4cfe-bc65-78b4dc09dbd4",
   "metadata": {},
   "outputs": [
    {
     "name": "stdout",
     "output_type": "stream",
     "text": [
      "code = [0 0 0 1 0 1 1 1 1 1 0 1 0 1 0 0 0 0 1 1 0 1 1 1]\n",
      "Octal: 057520674005\n"
     ]
    }
   ],
   "source": [
    "k = 10223\n",
    "# L in {-1,0,+1} from your jacobi_full_sequence\n",
    "L_pm1 = jacobi_full_sequence(k).astype(np.int8)\n",
    "\n",
    "# Convert to the ICD's binary Legendre: residues->1, everything else (incl. t=0) -> 0\n",
    "L_bin = (L_pm1 == 1).astype(np.uint8)          # {0,1}, with L_bin[0] == 0\n",
    "\n",
    "# Weil base sequence: XOR, using L(n+W).  Note: np.roll(..., -W) implements index (n+W) % k\n",
    "W = W1 % k\n",
    "w = L_bin ^ np.roll(L_bin, -W)                 # {0,1}, length 10223\n",
    "\n",
    "# Insert the common 7-bit expansion at 1-based index p (Python index p-1)\n",
    "# Use the expansion sequence specified by the ICD (same for all PRNs):\n",
    "expansion = np.array([0, 1, 1, 0, 1, 0, 0], dtype=np.uint8)\n",
    "\n",
    "p0 = p - 1                                     # p is 1-based in the tables\n",
    "code = np.concatenate([w[:p0], expansion, w[p0:]])   # length 10230\n",
    "\n",
    "print (f'code = {code[:24]}')\n",
    "octal_string = bits01_to_octal(code)\n",
    "print (f'Octal: {octal_string[:12]}')"
   ]
  },
  {
   "cell_type": "code",
   "execution_count": 74,
   "id": "12db33ad-e276-4b8c-8eb8-5275a22a5478",
   "metadata": {},
   "outputs": [
    {
     "name": "stdout",
     "output_type": "stream",
     "text": [
      "[1 0 1 0 0 0 0 0 0 1 1 0 1 0 1 1 0 0 0 0 1 1 0 0 0 0 0 0 0 1 0 0]\n"
     ]
    }
   ],
   "source": [
    "# Precompute L once\n",
    "L10223 = jacobi_full_sequence(10223)\n",
    "\n",
    "\n",
    "# Structural properties (for any prime k):\n",
    "# - Exactly two positions per period have prod == 0: n=0 and n≡-W (mod k)\n",
    "def check_structure(W):\n",
    "    Wm = W % 10223\n",
    "    Ls = np.roll(L10223, Wm)\n",
    "    prod = L10223.astype(int) * Ls.astype(int)\n",
    "    zeros = np.flatnonzero(prod == 0)\n",
    "    assert len(zeros) == 2, f\"Expected 2 zeros, got {len(zeros)} at {zeros}\"\n",
    "    # And weil bit is 0 iff prod==+1\n",
    "    weil01 = (prod <= 0).astype(np.uint8)\n",
    "    assert np.all(weil01[prod == 1] == 0)\n",
    "    assert np.all(weil01[prod <= 0] == 1)\n",
    "\n",
    "# Try with your (W,P)\n",
    "W, P = 5111, 412\n",
    "check_structure(W)\n",
    "\n",
    "chips01 = l1c_pilot_from_symbols(W, P, k=10223, N0=10230, p_base=1, shift=\"right\", out=\"01\", L=L10223)\n",
    "\n",
    "# If your table’s octal still doesn’t match, try just these tiny toggles:\n",
    "#   shift=\"left\"      (L(n-W) instead of L(n+W))\n",
    "#   p_base=0          (if P is actually 0-based)\n",
    "#   chips01 ^= 1      (if the table is complemented)\n",
    "print (chips01[:32])\n"
   ]
  },
  {
   "cell_type": "code",
   "execution_count": 41,
   "id": "2b9901a8-81c7-495b-8a79-fe55e03e1e05",
   "metadata": {},
   "outputs": [
    {
     "name": "stdout",
     "output_type": "stream",
     "text": [
      "W = 5111, P=412\n",
      "[1 0 1 0 0 0 0 0 0 1 1 0 1 0 1 1 0 0 0 0 1 1 0 0 0 0 0 0 0 1 0 0]\n",
      "(10230,)\n"
     ]
    }
   ],
   "source": [
    "PRN = 1\n",
    "w_pilot = l1c_table.at[PRN, \"w_pilot\"]\n",
    "p_pilot = l1c_table.at[PRN, \"p_pilot\"]\n",
    "print (f\"W = {w_pilot}, P={p_pilot}\")\n",
    "\n",
    "chips_pm1 = l1c_pilot_from_symbols (w_pilot, p_pilot)\n",
    "\n",
    "#chips_pm1 = l1c_pilot_weil(\n",
    "#    w=w_pilot,\n",
    "#    p=p_pilot,\n",
    "#    k=10223,\n",
    "#    N0=10230,\n",
    "#    alphabet=\"01\"\n",
    "#)\n",
    "\n",
    "print(chips_pm1[:32])\n",
    "print(chips_pm1.shape)"
   ]
  },
  {
   "cell_type": "code",
   "execution_count": null,
   "id": "70ccf372-d4ee-420c-8a8c-abc866c52eb2",
   "metadata": {},
   "outputs": [],
   "source": [
    "#\n",
    "# Not sure if this is worth saving, but I'm not ready to delete it.\n",
    "\n",
    "def l1c_pilot_from_symbols(W: int, P: int, *,\n",
    "                           k: int = 10223, N0: int = 10230,\n",
    "                           p_base: int = 1, shift: str = \"right\",\n",
    "                           out: str = \"01\",\n",
    "                           L: np.ndarray | None = None) -> np.ndarray:\n",
    "    \"\"\"\n",
    "    Build L1C pilot using L(n) in {-1,0,+1}:\n",
    "      w(n) = (1 - L(n)*L(n+W)) / 2  in {0,1}\n",
    "    - p_base=1 because ICD tables list P as 1-based.\n",
    "    - shift='right' means L(n+W); use 'left' for L(n-W).\n",
    "    - out='01' or 'pm1'.\n",
    "    - Optionally pass a precomputed L to avoid recomputing per PRN.\n",
    "    \"\"\"\n",
    "    if L is None:\n",
    "        L = jacobi_full_sequence(k)  # includes n=0 term == 0\n",
    "    Wm = W % k\n",
    "    Ls = np.roll(L, Wm if shift == \"right\" else -Wm)\n",
    "\n",
    "    # Weil bits from symbol product (keep zeros intact here)\n",
    "    prod = (L.astype(np.int16) * Ls.astype(np.int16))      # {-1,0,+1}\n",
    "    weil01 = (prod <= 0).astype(np.uint8)            # +1->0, 0/-1->1\n",
    "\n",
    "    # Extract N0 chips starting at insertion point P (1-based default)\n",
    "    start = (P - p_base) % k\n",
    "    if N0 <= k - start:\n",
    "        out01 = weil01[start:start + N0].copy()\n",
    "    else:\n",
    "        tail = k - start\n",
    "        out01 = np.concatenate((weil01[start:], weil01[:N0 - tail]))\n",
    "\n",
    "    if out == \"01\":\n",
    "        return out01\n",
    "    elif out == \"pm1\":\n",
    "        return (out01 * 2 - 1).astype(np.int8)\n",
    "    else:\n",
    "        raise ValueError(\"out must be '01' or 'pm1'\")\n"
   ]
  },
  {
   "cell_type": "code",
   "execution_count": 42,
   "id": "660a3a82-3c5c-442b-ae17-7e14e48cbf7f",
   "metadata": {},
   "outputs": [
    {
     "name": "stdout",
     "output_type": "stream",
     "text": [
      "(3410, 3)\n"
     ]
    }
   ],
   "source": [
    "groups = chips_pm1.reshape(-1,3)\n",
    "print(groups.shape)"
   ]
  },
  {
   "cell_type": "code",
   "execution_count": 38,
   "id": "f818118c-2cab-4964-bcb7-56ee2f695614",
   "metadata": {},
   "outputs": [],
   "source": [
    "oct_digits = [str(int(''.join(map(str, g)), 2)) for g in groups]"
   ]
  },
  {
   "cell_type": "code",
   "execution_count": 22,
   "id": "b2183ca1-1b1c-4f4a-9e7a-45462ff907b8",
   "metadata": {},
   "outputs": [
    {
     "name": "stdout",
     "output_type": "stream",
     "text": [
      "[[1 0 1]\n",
      " [0 0 0]\n",
      " [0 0 0]\n",
      " [1 1 0]\n",
      " [1 0 1]\n",
      " [1 0 0]\n",
      " [0 0 1]\n",
      " [1 0 0]\n",
      " [0 0 0]\n",
      " [0 0 1]]\n"
     ]
    }
   ],
   "source": [
    "print (groups[:10,:])"
   ]
  },
  {
   "cell_type": "code",
   "execution_count": 23,
   "id": "ce2ef91c-9a23-4aee-898c-d0ac0c7be12f",
   "metadata": {},
   "outputs": [
    {
     "name": "stdout",
     "output_type": "stream",
     "text": [
      "['5', '0', '0', '6', '5', '4', '1', '4', '0', '1']\n"
     ]
    }
   ],
   "source": [
    "#print (oct_digits.shape())\n",
    "print (oct_digits[:10])"
   ]
  },
  {
   "cell_type": "code",
   "execution_count": 24,
   "id": "0c3a1e19-fdcb-4818-ae79-4c01333722ae",
   "metadata": {},
   "outputs": [],
   "source": [
    "import numpy as np\n",
    "from dataclasses import dataclass\n",
    "\n",
    "# --- Core: Jacobi, residue, Weil, slice ---\n",
    "def jacobi(n: int, k: int) -> int:\n",
    "    assert k > 0 and (k % 2 == 1)\n",
    "    n = n % k\n",
    "    t = 1\n",
    "    while n != 0:\n",
    "        while n % 2 == 0:\n",
    "            n //= 2\n",
    "            r = k % 8\n",
    "            if r == 3 or r == 5:\n",
    "                t = -t\n",
    "        n, k = k, n\n",
    "        if (n % 4 == 3) and (k % 4 == 3):\n",
    "            t = -t\n",
    "        n = n % k\n",
    "    return t if k == 1 else 0\n",
    "\n",
    "def residue_indicator(k: int, map_zero_to_one: bool = True) -> np.ndarray:\n",
    "    \"\"\"Return resid01[n] = 1 if (n/k)==+1, else 0; map Jacobi==0 to {1 or 0}.\"\"\"\n",
    "    idx = np.arange(k, dtype=np.int64)\n",
    "    vjac = np.vectorize(lambda n: jacobi(int(n), k), otypes=[int])\n",
    "    jvals = vjac(idx).astype(np.int8)\n",
    "    resid01 = (jvals == 1).astype(np.uint8)\n",
    "    if map_zero_to_one:\n",
    "        resid01[jvals == 0] = 1\n",
    "    # else: leave 0 for Jacobi==0\n",
    "    return resid01\n",
    "\n",
    "@dataclass\n",
    "class L1cOptions:\n",
    "    k: int = 10223             # modulus for Jacobi/Weil\n",
    "    N0: int = 10230            # output length (pilot)\n",
    "    map_zero_to_one: bool = False  # ICDs typically treat Jacobi==0 as 0 in indicator\n",
    "    shift_direction: str = \"right\" # \"right\" => np.roll(+w); \"left\" => np.roll(-w)\n",
    "    xor: bool = True           # True: XOR (Weil standard); False: XNOR (inversion)\n",
    "    p_base: int = 1            # 1 if insertion point p is 1-based; 0 if p is 0-based\n",
    "    invert: bool = False       # invert entire output after slice\n",
    "    octal_msb_first: bool = True   # group bits MSB-first into octal\n",
    "    reverse_bits_in_group: bool = False  # swap bit order within each 3-bit chunk\n",
    "\n",
    "def build_l1c_pilot(w: int, p: int, opt: L1cOptions) -> np.ndarray:\n",
    "    k = opt.k\n",
    "    resid01 = residue_indicator(k, map_zero_to_one=opt.map_zero_to_one)\n",
    "\n",
    "    # shifted copy\n",
    "    if opt.shift_direction == \"right\":\n",
    "        resid01_shift = np.roll(resid01, w % k)\n",
    "    elif opt.shift_direction == \"left\":\n",
    "        resid01_shift = np.roll(resid01, -(w % k))\n",
    "    else:\n",
    "        raise ValueError(\"shift_direction must be 'right' or 'left'\")\n",
    "\n",
    "    # XOR or XNOR\n",
    "    if opt.xor:\n",
    "        weil01 = (resid01 ^ resid01_shift).astype(np.uint8)\n",
    "    else:\n",
    "        weil01 = (1 - (resid01 ^ resid01_shift)).astype(np.uint8)\n",
    "\n",
    "    # insertion point\n",
    "    start = (p - opt.p_base) % k\n",
    "\n",
    "    # slice with wrap\n",
    "    N0 = opt.N0\n",
    "    if N0 <= k - start:\n",
    "        out01 = weil01[start:start + N0].copy()\n",
    "    else:\n",
    "        tail = k - start\n",
    "        head = N0 - tail\n",
    "        out01 = np.concatenate((weil01[start:], weil01[:head]))\n",
    "\n",
    "    if opt.invert:\n",
    "        out01 = 1 - out01\n",
    "    return out01\n",
    "\n",
    "# --- Octal helpers & pretty printing ---\n",
    "def bits01_to_octal(bits01: np.ndarray, msb_first: bool = True, reverse_bits_in_group: bool = False) -> str:\n",
    "    \"\"\"Pack 0/1 bits to octal string, 3 bits per digit.\"\"\"\n",
    "    # truncate to multiple of 3 for clean comparison\n",
    "    n = (bits01.size // 3) * 3\n",
    "    b = bits01[:n].reshape(-1, 3)\n",
    "    if reverse_bits_in_group:\n",
    "        b = b[:, ::-1]\n",
    "    if msb_first:\n",
    "        vals = (b[:,0] << 2) | (b[:,1] << 1) | b[:,2]\n",
    "    else:\n",
    "        # if someone meant LSB-first groups\n",
    "        vals = b[:,0] | (b[:,1] << 1) | (b[:,2] << 2)\n",
    "    return \"\".join(str(int(v)) for v in vals)\n",
    "\n",
    "def show(vec, n=24, label=\"\"):\n",
    "    s = \"\".join(\"1\" if x else \"0\" for x in vec[:n])\n",
    "    print(f\"{label}{s} …\")\n",
    "\n",
    "def debug_l1c_pilot(w: int, p: int, *, expected_octal_prefix: str | None = None, opt: L1cOptions | None = None):\n",
    "    \"\"\"\n",
    "    Print a step-by-step view and a few octal variants to pinpoint mismatches.\n",
    "    \"\"\"\n",
    "    if opt is None:\n",
    "        opt = L1cOptions()\n",
    "\n",
    "    print(\"=== Parameters ===\")\n",
    "    print(opt)\n",
    "    print(f\"w={w}, p={p}\")\n",
    "    print(\"Building sequences…\")\n",
    "\n",
    "    k = opt.k\n",
    "    resid01 = residue_indicator(k, map_zero_to_one=opt.map_zero_to_one)\n",
    "    show(resid01, 24, \"resid01[0:24]      = \")\n",
    "\n",
    "    resid01_shift = np.roll(resid01, (w % k) if opt.shift_direction==\"right\" else -(w % k))\n",
    "    show(resid01_shift, 24, \"resid01_shift    = \")\n",
    "\n",
    "    if opt.xor:\n",
    "        weil01 = (resid01 ^ resid01_shift).astype(np.uint8)\n",
    "        print(\"combination        : XOR\")\n",
    "    else:\n",
    "        weil01 = (1 - (resid01 ^ resid01_shift)).astype(np.uint8)\n",
    "        print(\"combination        : XNOR\")\n",
    "\n",
    "    show(weil01, 24, \"weil01[0:24]      = \")\n",
    "\n",
    "    start = (p - opt.p_base) % k\n",
    "    win = np.concatenate((weil01[start:start+24],))  # peek window\n",
    "    show(win, 24, f\"window@start={start} = \")\n",
    "\n",
    "    out01 = build_l1c_pilot(w, p, opt)\n",
    "    show(out01, 48, \"out01[0:48]       = \")\n",
    "\n",
    "    oct_std   = bits01_to_octal(out01, msb_first=True,  reverse_bits_in_group=False)\n",
    "    oct_rev   = bits01_to_octal(out01, msb_first=True,  reverse_bits_in_group=True)\n",
    "    oct_lsb   = bits01_to_octal(out01, msb_first=False, reverse_bits_in_group=False)\n",
    "    oct_lsb_r = bits01_to_octal(out01, msb_first=False, reverse_bits_in_group=True)\n",
    "\n",
    "    print(\"\\nOctal (first 32 digits, different packing conventions):\")\n",
    "    print(\"MSB-first, group normal : \", oct_std[:32])\n",
    "    print(\"MSB-first, group reversed: \", oct_rev[:32])\n",
    "    print(\"LSB-first, group normal : \", oct_lsb[:32])\n",
    "    print(\"LSB-first, group reversed: \", oct_lsb_r[:32])\n",
    "\n",
    "    if expected_octal_prefix:\n",
    "        print(\"\\nComparing to expected prefix:\")\n",
    "        candidates = {\n",
    "            \"MSB-first, group normal\": oct_std,\n",
    "            \"MSB-first, group reversed\": oct_rev,\n",
    "            \"LSB-first, group normal\": oct_lsb,\n",
    "            \"LSB-first, group reversed\": oct_lsb_r,\n",
    "        }\n",
    "        for name, octs in candidates.items():\n",
    "            match_len = 0\n",
    "            for a, b in zip(octs, expected_octal_prefix):\n",
    "                if a == b:\n",
    "                    match_len += 1\n",
    "                else:\n",
    "                    break\n",
    "            print(f\"{name:27s} match {match_len} octal digits\")\n"
   ]
  },
  {
   "cell_type": "code",
   "execution_count": 25,
   "id": "8ad3decd-9eb1-43c5-9ed9-947554f195d4",
   "metadata": {},
   "outputs": [
    {
     "name": "stdout",
     "output_type": "stream",
     "text": [
      "W = 5111, P=412\n",
      "=== Parameters ===\n",
      "L1cOptions(k=10223, N0=10230, map_zero_to_one=False, shift_direction='right', xor=True, p_base=1, invert=False, octal_msb_first=True, reverse_bits_in_group=False)\n",
      "w=5111, p=412\n",
      "Building sequences…\n",
      "resid01[0:24]      = 011110111100101010100101 …\n",
      "resid01_shift    = 110110000011110100100100 …\n",
      "combination        : XOR\n",
      "weil01[0:24]      = 101000111111011110000001 …\n",
      "window@start=411 = 101000000110101100001100 …\n",
      "out01[0:48]       = 101000000110101100001100000001000011110101100011 …\n",
      "\n",
      "Octal (first 32 digits, different packing conventions):\n",
      "MSB-first, group normal :  50065414010365433711121652067557\n",
      "MSB-first, group reversed:  50035141040635166744424352037557\n",
      "LSB-first, group normal :  50035141040635166744424352037557\n",
      "LSB-first, group reversed:  50065414010365433711121652067557\n",
      "\n",
      "Comparing to expected prefix:\n",
      "MSB-first, group normal     match 0 octal digits\n",
      "MSB-first, group reversed   match 0 octal digits\n",
      "LSB-first, group normal     match 0 octal digits\n",
      "LSB-first, group reversed   match 0 octal digits\n"
     ]
    }
   ],
   "source": [
    "PRN = 1\n",
    "w_pilot = l1c_table.at[PRN, \"w_pilot\"]\n",
    "p_pilot = l1c_table.at[PRN, \"p_pilot\"]\n",
    "print (f\"W = {w_pilot}, P={p_pilot}\")\n",
    "opt = L1cOptions(\n",
    "    k=10223, N0=10230,\n",
    "    map_zero_to_one=False,   # Legendre indicator: 0 stays 0\n",
    "    shift_direction=\"right\", # np.roll(+w)\n",
    "    xor=True,                # XOR for Weil\n",
    "    p_base=1,                # p is 1-based per ICD tables\n",
    "    invert=False,            # no global inversion\n",
    "    octal_msb_first=True,\n",
    "    reverse_bits_in_group=False\n",
    ")\n",
    "\n",
    "# If you know the first N octal digits from the table for this PRN, put them here:\n",
    "expected = l1c_table.at[PRN, \"Initial_pilot_code\"]  # e.g., \"1732050...\"  (leave None if you don't have it handy)\n",
    "\n",
    "debug_l1c_pilot(w_pilot, p_pilot, expected_octal_prefix=expected, opt=opt)"
   ]
  },
  {
   "cell_type": "code",
   "execution_count": 26,
   "id": "714edcd2-59b0-4810-9679-d9d999724cb4",
   "metadata": {},
   "outputs": [],
   "source": [
    "def jacobi(n: int, k: int) -> int:\n",
    "    assert k > 0 and (k % 2 == 1)\n",
    "    n = n % k\n",
    "    t = 1\n",
    "    while n != 0:\n",
    "        while n % 2 == 0:\n",
    "            n //= 2\n",
    "            r = k % 8\n",
    "            if r == 3 or r == 5:\n",
    "                t = -t\n",
    "        n, k = k, n\n",
    "        if (n % 4 == 3) and (k % 4 == 3):\n",
    "            t = -t\n",
    "        n = n % k\n",
    "    return t if k == 1 else 0\n",
    "\n",
    "def l1c_pilot_from_symbols(w: int, p: int, *, k: int = 10223, N0: int = 10230,\n",
    "                           p_base: int = 1, shift: str = \"right\",\n",
    "                           alphabet: str = \"01\") -> np.ndarray:\n",
    "    \"\"\"\n",
    "    L1C pilot via Weil code constructed from Jacobi/Legendre symbols L(n) in {+1,0,-1}.\n",
    "    w: Weil index (integer)\n",
    "    p: insertion point (1-based by default)\n",
    "    k: prime modulus (10223)\n",
    "    N0: output chips (10230)\n",
    "    shift: 'right' means use L(n+w); 'left' uses L(n-w)\n",
    "    alphabet: '01' or 'pm1'\n",
    "    \"\"\"\n",
    "    # Build L(n) for n=0..k-1 with L(0)=0\n",
    "    idx = np.arange(k, dtype=np.int64)\n",
    "    vjac = np.vectorize(lambda n: jacobi(int(n), k), otypes=[int])\n",
    "    L = vjac(idx).astype(np.int8)  # values in {-1,0,+1}; L[0]==0\n",
    "\n",
    "    # Shifted L\n",
    "    w_mod = int(w) % k\n",
    "    Ls = np.roll(L, w_mod if shift == \"right\" else -w_mod)\n",
    "\n",
    "    # Weil bits: w(n) = (1 - L(n)*L(n+w)) / 2 in {0,1}\n",
    "    prod = (L.astype(np.int16) * Ls.astype(np.int16))  # {-1,0,+1}\n",
    "    weil01 = ((1 - prod) // 2).astype(np.uint8)        # map: +1→0, 0→1, -1→1\n",
    "\n",
    "    # Extract N0 chips starting at p (1-based default), with wrap\n",
    "    start = (int(p) - p_base) % k\n",
    "    if N0 <= k - start:\n",
    "        out01 = weil01[start:start + N0].copy()\n",
    "    else:\n",
    "        tail = k - start\n",
    "        out01 = np.concatenate((weil01[start:], weil01[:N0 - tail]))\n",
    "\n",
    "    if alphabet == \"01\":\n",
    "        return out01\n",
    "    elif alphabet == \"pm1\":\n",
    "        return (out01 * 2 - 1).astype(np.int8)\n",
    "    else:\n",
    "        raise ValueError(\"alphabet must be '01' or 'pm1'\")\n"
   ]
  },
  {
   "cell_type": "code",
   "execution_count": 27,
   "id": "13a7fad2-8615-4ce4-a751-92c906c620eb",
   "metadata": {},
   "outputs": [],
   "source": [
    "chips01 = l1c_pilot_from_symbols(w_pilot, p_pilot, k=10223, N0=10230, p_base=1, shift=\"right\", alphabet=\"01\")"
   ]
  },
  {
   "cell_type": "code",
   "execution_count": 28,
   "id": "2b11bfd5-20dd-4abf-9dac-ada91dfbec83",
   "metadata": {},
   "outputs": [
    {
     "name": "stdout",
     "output_type": "stream",
     "text": [
      "[1 0 1 0 0 0 0 0 0 1 1 0 1 0 1 1 0 0 0 0 1 1 0 0 0 0 0 0 0 1 0 0]\n"
     ]
    }
   ],
   "source": [
    "print(chips01[:32])"
   ]
  },
  {
   "cell_type": "code",
   "execution_count": 29,
   "id": "a1986a4a-4ca6-4552-943d-7740d41d01b2",
   "metadata": {},
   "outputs": [
    {
     "name": "stdout",
     "output_type": "stream",
     "text": [
      "50065414010365433711121652067557\n"
     ]
    }
   ],
   "source": [
    "def bits01_to_octal(bits01: np.ndarray) -> str:\n",
    "    n = (bits01.size // 3) * 3\n",
    "    b = bits01[:n].reshape(-1, 3)\n",
    "    vals = (b[:,0] << 2) | (b[:,1] << 1) | b[:,2]\n",
    "    return \"\".join(str(int(v)) for v in vals)\n",
    "\n",
    "print(bits01_to_octal(chips01)[:32])\n"
   ]
  },
  {
   "cell_type": "code",
   "execution_count": null,
   "id": "f21c0f75-f6ae-42d1-8b3f-d8eede478f9f",
   "metadata": {},
   "outputs": [],
   "source": []
  }
 ],
 "metadata": {
  "kernelspec": {
   "display_name": "Python 3 (ipykernel)",
   "language": "python",
   "name": "python3"
  },
  "language_info": {
   "codemirror_mode": {
    "name": "ipython",
    "version": 3
   },
   "file_extension": ".py",
   "mimetype": "text/x-python",
   "name": "python",
   "nbconvert_exporter": "python",
   "pygments_lexer": "ipython3",
   "version": "3.12.3"
  }
 },
 "nbformat": 4,
 "nbformat_minor": 5
}
